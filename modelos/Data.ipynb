{
 "cells": [
  {
   "cell_type": "code",
   "execution_count": 12,
   "metadata": {},
   "outputs": [],
   "source": [
    "import pandas as pd\n",
    "import numpy as np\n",
    "import requests\n",
    "from bs4 import BeautifulSoup\n",
    "import re\n",
    "import openpyxl\n",
    "import plotly.express as px"
   ]
  },
  {
   "cell_type": "code",
   "execution_count": 13,
   "metadata": {},
   "outputs": [],
   "source": [
    "class Data:\n",
    "    def __init__(self, base_url='https://wdc.kugi.kyoto-u.ac.jp/dst_final/'):\n",
    "        self.base_url = base_url\n",
    "\n",
    "    def get_data_by_month(self, year, month):\n",
    "        if(int(month)>9):\n",
    "            url = f'{self.base_url}{year}{month}/index.html'\n",
    "        else:\n",
    "            url = f'{self.base_url}{year}0{month}/index.html'\n",
    "        return url\n",
    "    \n",
    "    def get_data_by_year(self, year):\n",
    "        url = f'{self.base_url}{year}/index.html'\n",
    "        return url\n",
    "    \n",
    "    def scrapping_data(self, url):\n",
    "        page = requests.get(url)\n",
    "                \n",
    "        soup = BeautifulSoup(page.content, 'html.parser')\n",
    "\n",
    "        # Obtención de datos del texto\n",
    "        data_text = soup.get_text()\n",
    "\n",
    "        # Encontrar números enteros en el texto\n",
    "        data_values = [int(value) for value in re.findall(r'-?\\d+', data_text)]\n",
    "\n",
    "        # Dividimos los datos en sublistas para cada día\n",
    "        day_length = 24\n",
    "        all_day_data = [data_values[i:i+day_length] for i in range(26, len(data_values), day_length+1)]\n",
    "\n",
    "        dataframe = pd.DataFrame(all_day_data, index=range(1,len(all_day_data)+1), columns=range(1,len(all_day_data[0])+1))\n",
    "        return dataframe\n"
   ]
  }
 ],
 "metadata": {
  "kernelspec": {
   "display_name": "base",
   "language": "python",
   "name": "python3"
  },
  "language_info": {
   "codemirror_mode": {
    "name": "ipython",
    "version": 3
   },
   "file_extension": ".py",
   "mimetype": "text/x-python",
   "name": "python",
   "nbconvert_exporter": "python",
   "pygments_lexer": "ipython3",
   "version": "3.11.5"
  }
 },
 "nbformat": 4,
 "nbformat_minor": 2
}
