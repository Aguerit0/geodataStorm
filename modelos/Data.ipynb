{
 "cells": [
  {
   "cell_type": "code",
   "execution_count": 2,
   "metadata": {},
   "outputs": [
    {
     "name": "stderr",
     "output_type": "stream",
     "text": [
      "d:\\Descargas\\Anaconda\\Lib\\site-packages\\pandas\\core\\arrays\\masked.py:60: UserWarning: Pandas requires version '1.3.6' or newer of 'bottleneck' (version '1.3.5' currently installed).\n",
      "  from pandas.core import (\n"
     ]
    }
   ],
   "source": [
    "import pandas as pd\n",
    "import numpy as np\n",
    "import requests\n",
    "from bs4 import BeautifulSoup\n",
    "import re\n",
    "import openpyxl\n",
    "import plotly.express as px"
   ]
  },
  {
   "cell_type": "code",
   "execution_count": 3,
   "metadata": {},
   "outputs": [],
   "source": [
    "class Data:\n",
    "    def __init__(self, base_url='https://wdc.kugi.kyoto-u.ac.jp/dst_final/'):\n",
    "        self.base_url = base_url\n",
    "\n",
    "    def get_data_by_month(self, year, month):\n",
    "        if(int(month)>9):\n",
    "            url = f'{self.base_url}{year}{month}/index.html'\n",
    "        else:\n",
    "            url = f'{self.base_url}{year}0{month}/index.html'\n",
    "        return url\n",
    "    \n",
    "    def get_data_by_year(self, year):\n",
    "        url = f'{self.base_url}{year}/index.html'\n",
    "        return url\n",
    "    \n",
    "    def scrapping_data(self, url):\n",
    "        page = requests.get(url)\n",
    "                \n",
    "        soup = BeautifulSoup(page.content, 'html.parser')\n",
    "\n",
    "        # Obtención de datos del texto\n",
    "        data_text = soup.get_text()\n",
    "\n",
    "        # Encontrar números enteros en el texto\n",
    "        data_values = [int(value) for value in re.findall(r'-?\\d+', data_text)]\n",
    "\n",
    "        # Dividimos los datos en sublistas para cada día\n",
    "        day_length = 24\n",
    "        all_day_data = [data_values[i:i+day_length] for i in range(26, len(data_values), day_length+1)]\n",
    "\n",
    "        dataframe = pd.DataFrame(all_day_data, index=range(1,len(all_day_data)+1), columns=range(1,len(all_day_data[0])+1))\n",
    "        return dataframe\n"
   ]
  },
  {
   "cell_type": "code",
   "execution_count": 5,
   "metadata": {},
   "outputs": [
    {
     "name": "stdout",
     "output_type": "stream",
     "text": [
      "   1   2   3   4   5   6   7   8   9   10  ...  15  16  17  18  19  20  21  \\\n",
      "1 -46 -38 -38 -42 -45 -40 -38 -35 -38 -30  ... -22 -23 -21 -23 -24 -28 -25   \n",
      "2 -24 -23 -25 -24 -26 -29 -22 -20 -21 -21  ... -16 -16 -18 -19 -12 -19 -19   \n",
      "3 -17 -21 -21 -20 -23 -20 -23 -21 -19 -22  ... -19 -16 -18 -20 -17 -18 -15   \n",
      "4 -10 -11 -14 -15 -16 -15 -14 -18 -20 -22  ... -19 -16 -14 -13 -16 -15 -17   \n",
      "5  -9 -18 -28 -32 -28 -23 -23 -34 -32 -34  ... -24 -21 -23 -30 -29 -28 -26   \n",
      "\n",
      "   22  23  24  \n",
      "1 -27 -28 -28  \n",
      "2 -17 -15 -14  \n",
      "3 -12 -11 -11  \n",
      "4 -15 -17 -10  \n",
      "5 -29 -26 -19  \n",
      "\n",
      "[5 rows x 24 columns]\n"
     ]
    }
   ],
   "source": [
    "YEAR = 2000\n",
    "MONTH = 1\n",
    "DAY = 20\n",
    "data = Data()\n",
    "url_by_month = data.get_data_by_month(YEAR, MONTH)\n",
    "df1 = data.scrapping_data(url_by_month)\n",
    "\n",
    "\n",
    "print(df1.head())"
   ]
  },
  {
   "cell_type": "code",
   "execution_count": 8,
   "metadata": {},
   "outputs": [
    {
     "ename": "TypeError",
     "evalue": "'RangeIndex' object is not callable",
     "output_type": "error",
     "traceback": [
      "\u001b[1;31m---------------------------------------------------------------------------\u001b[0m",
      "\u001b[1;31mTypeError\u001b[0m                                 Traceback (most recent call last)",
      "Cell \u001b[1;32mIn[8], line 1\u001b[0m\n\u001b[1;32m----> 1\u001b[0m \u001b[38;5;28mprint\u001b[39m(df1\u001b[38;5;241m.\u001b[39mindex())\n",
      "\u001b[1;31mTypeError\u001b[0m: 'RangeIndex' object is not callable"
     ]
    }
   ],
   "source": [
    "print(df1.index())"
   ]
  },
  {
   "cell_type": "code",
   "execution_count": 11,
   "metadata": {},
   "outputs": [
    {
     "data": {
      "application/vnd.plotly.v1+json": {
       "config": {
        "plotlyServerURL": "https://plot.ly"
       },
       "data": [
        {
         "hovertemplate": "variable=1<br>index=%{x}<br>value=%{y}<extra></extra>",
         "legendgroup": "1",
         "line": {
          "color": "#636efa",
          "dash": "solid"
         },
         "marker": {
          "symbol": "circle"
         },
         "mode": "lines",
         "name": "1",
         "orientation": "v",
         "showlegend": true,
         "type": "scatter",
         "x": [
          1,
          2,
          3,
          4,
          5,
          6,
          7,
          8,
          9,
          10,
          11,
          12,
          13,
          14,
          15,
          16,
          17,
          18,
          19,
          20,
          21,
          22,
          23,
          24,
          25,
          26,
          27,
          28,
          29,
          30,
          31
         ],
         "xaxis": "x",
         "y": [
          -46,
          -24,
          -17,
          -10,
          -9,
          -19,
          -23,
          -13,
          -7,
          3,
          -9,
          -72,
          -31,
          -22,
          -17,
          -20,
          -10,
          -9,
          1,
          -3,
          -3,
          1,
          -97,
          -38,
          -36,
          -22,
          -27,
          -31,
          -29,
          -24,
          -18
         ],
         "yaxis": "y"
        },
        {
         "hovertemplate": "variable=2<br>index=%{x}<br>value=%{y}<extra></extra>",
         "legendgroup": "2",
         "line": {
          "color": "#EF553B",
          "dash": "solid"
         },
         "marker": {
          "symbol": "circle"
         },
         "mode": "lines",
         "name": "2",
         "orientation": "v",
         "showlegend": true,
         "type": "scatter",
         "x": [
          1,
          2,
          3,
          4,
          5,
          6,
          7,
          8,
          9,
          10,
          11,
          12,
          13,
          14,
          15,
          16,
          17,
          18,
          19,
          20,
          21,
          22,
          23,
          24,
          25,
          26,
          27,
          28,
          29,
          30,
          31
         ],
         "xaxis": "x",
         "y": [
          -38,
          -23,
          -21,
          -11,
          -18,
          -20,
          -22,
          -12,
          -9,
          -1,
          -10,
          -65,
          -28,
          -19,
          -20,
          -16,
          -8,
          -8,
          2,
          1,
          -1,
          7,
          -92,
          -38,
          -32,
          -20,
          -24,
          -41,
          -23,
          -22,
          -16
         ],
         "yaxis": "y"
        },
        {
         "hovertemplate": "variable=3<br>index=%{x}<br>value=%{y}<extra></extra>",
         "legendgroup": "3",
         "line": {
          "color": "#00cc96",
          "dash": "solid"
         },
         "marker": {
          "symbol": "circle"
         },
         "mode": "lines",
         "name": "3",
         "orientation": "v",
         "showlegend": true,
         "type": "scatter",
         "x": [
          1,
          2,
          3,
          4,
          5,
          6,
          7,
          8,
          9,
          10,
          11,
          12,
          13,
          14,
          15,
          16,
          17,
          18,
          19,
          20,
          21,
          22,
          23,
          24,
          25,
          26,
          27,
          28,
          29,
          30,
          31
         ],
         "xaxis": "x",
         "y": [
          -38,
          -25,
          -21,
          -14,
          -28,
          -17,
          -23,
          -11,
          -10,
          -4,
          -8,
          -66,
          -24,
          -17,
          -19,
          -16,
          -4,
          -9,
          2,
          5,
          1,
          16,
          -96,
          -37,
          -33,
          -17,
          -17,
          -38,
          -23,
          -21,
          -22
         ],
         "yaxis": "y"
        },
        {
         "hovertemplate": "variable=4<br>index=%{x}<br>value=%{y}<extra></extra>",
         "legendgroup": "4",
         "line": {
          "color": "#ab63fa",
          "dash": "solid"
         },
         "marker": {
          "symbol": "circle"
         },
         "mode": "lines",
         "name": "4",
         "orientation": "v",
         "showlegend": true,
         "type": "scatter",
         "x": [
          1,
          2,
          3,
          4,
          5,
          6,
          7,
          8,
          9,
          10,
          11,
          12,
          13,
          14,
          15,
          16,
          17,
          18,
          19,
          20,
          21,
          22,
          23,
          24,
          25,
          26,
          27,
          28,
          29,
          30,
          31
         ],
         "xaxis": "x",
         "y": [
          -42,
          -24,
          -20,
          -15,
          -32,
          -15,
          -25,
          -10,
          -11,
          -6,
          -1,
          -65,
          -22,
          -17,
          -15,
          -15,
          -2,
          -7,
          0,
          6,
          -1,
          12,
          -97,
          -39,
          -36,
          -24,
          -12,
          -37,
          -23,
          -19,
          -19
         ],
         "yaxis": "y"
        },
        {
         "hovertemplate": "variable=5<br>index=%{x}<br>value=%{y}<extra></extra>",
         "legendgroup": "5",
         "line": {
          "color": "#FFA15A",
          "dash": "solid"
         },
         "marker": {
          "symbol": "circle"
         },
         "mode": "lines",
         "name": "5",
         "orientation": "v",
         "showlegend": true,
         "type": "scatter",
         "x": [
          1,
          2,
          3,
          4,
          5,
          6,
          7,
          8,
          9,
          10,
          11,
          12,
          13,
          14,
          15,
          16,
          17,
          18,
          19,
          20,
          21,
          22,
          23,
          24,
          25,
          26,
          27,
          28,
          29,
          30,
          31
         ],
         "xaxis": "x",
         "y": [
          -45,
          -26,
          -23,
          -16,
          -28,
          -14,
          -30,
          -9,
          -8,
          -4,
          4,
          -58,
          -24,
          -19,
          -14,
          -11,
          -5,
          -6,
          -1,
          1,
          -4,
          9,
          -79,
          -43,
          -41,
          -30,
          -13,
          -40,
          -27,
          -22,
          -18
         ],
         "yaxis": "y"
        },
        {
         "hovertemplate": "variable=6<br>index=%{x}<br>value=%{y}<extra></extra>",
         "legendgroup": "6",
         "line": {
          "color": "#19d3f3",
          "dash": "solid"
         },
         "marker": {
          "symbol": "circle"
         },
         "mode": "lines",
         "name": "6",
         "orientation": "v",
         "showlegend": true,
         "type": "scatter",
         "x": [
          1,
          2,
          3,
          4,
          5,
          6,
          7,
          8,
          9,
          10,
          11,
          12,
          13,
          14,
          15,
          16,
          17,
          18,
          19,
          20,
          21,
          22,
          23,
          24,
          25,
          26,
          27,
          28,
          29,
          30,
          31
         ],
         "xaxis": "x",
         "y": [
          -40,
          -29,
          -20,
          -15,
          -23,
          -18,
          -28,
          -10,
          -6,
          1,
          8,
          -58,
          -23,
          -17,
          -9,
          -9,
          -7,
          -2,
          6,
          -3,
          -5,
          11,
          -65,
          -47,
          -39,
          -28,
          -12,
          -35,
          -28,
          -24,
          -18
         ],
         "yaxis": "y"
        },
        {
         "hovertemplate": "variable=7<br>index=%{x}<br>value=%{y}<extra></extra>",
         "legendgroup": "7",
         "line": {
          "color": "#FF6692",
          "dash": "solid"
         },
         "marker": {
          "symbol": "circle"
         },
         "mode": "lines",
         "name": "7",
         "orientation": "v",
         "showlegend": true,
         "type": "scatter",
         "x": [
          1,
          2,
          3,
          4,
          5,
          6,
          7,
          8,
          9,
          10,
          11,
          12,
          13,
          14,
          15,
          16,
          17,
          18,
          19,
          20,
          21,
          22,
          23,
          24,
          25,
          26,
          27,
          28,
          29,
          30,
          31
         ],
         "xaxis": "x",
         "y": [
          -38,
          -22,
          -23,
          -14,
          -23,
          -17,
          -25,
          -12,
          -4,
          3,
          10,
          -52,
          -23,
          -16,
          -8,
          -8,
          -6,
          0,
          10,
          -5,
          -6,
          6,
          -66,
          -44,
          -39,
          -22,
          -1,
          -36,
          -29,
          -25,
          -20
         ],
         "yaxis": "y"
        },
        {
         "hovertemplate": "variable=8<br>index=%{x}<br>value=%{y}<extra></extra>",
         "legendgroup": "8",
         "line": {
          "color": "#B6E880",
          "dash": "solid"
         },
         "marker": {
          "symbol": "circle"
         },
         "mode": "lines",
         "name": "8",
         "orientation": "v",
         "showlegend": true,
         "type": "scatter",
         "x": [
          1,
          2,
          3,
          4,
          5,
          6,
          7,
          8,
          9,
          10,
          11,
          12,
          13,
          14,
          15,
          16,
          17,
          18,
          19,
          20,
          21,
          22,
          23,
          24,
          25,
          26,
          27,
          28,
          29,
          30,
          31
         ],
         "xaxis": "x",
         "y": [
          -35,
          -20,
          -21,
          -18,
          -34,
          -14,
          -20,
          -11,
          -3,
          -1,
          12,
          -51,
          -26,
          -13,
          -9,
          -6,
          -8,
          0,
          14,
          -1,
          -4,
          1,
          -62,
          -43,
          -39,
          -17,
          5,
          -30,
          -22,
          -18,
          -19
         ],
         "yaxis": "y"
        },
        {
         "hovertemplate": "variable=9<br>index=%{x}<br>value=%{y}<extra></extra>",
         "legendgroup": "9",
         "line": {
          "color": "#FF97FF",
          "dash": "solid"
         },
         "marker": {
          "symbol": "circle"
         },
         "mode": "lines",
         "name": "9",
         "orientation": "v",
         "showlegend": true,
         "type": "scatter",
         "x": [
          1,
          2,
          3,
          4,
          5,
          6,
          7,
          8,
          9,
          10,
          11,
          12,
          13,
          14,
          15,
          16,
          17,
          18,
          19,
          20,
          21,
          22,
          23,
          24,
          25,
          26,
          27,
          28,
          29,
          30,
          31
         ],
         "xaxis": "x",
         "y": [
          -38,
          -21,
          -19,
          -20,
          -32,
          -11,
          -20,
          -9,
          -5,
          -1,
          12,
          -48,
          -22,
          -12,
          -9,
          -8,
          -8,
          0,
          15,
          4,
          -1,
          8,
          -63,
          -46,
          -39,
          -16,
          8,
          -28,
          -28,
          -17,
          -18
         ],
         "yaxis": "y"
        },
        {
         "hovertemplate": "variable=10<br>index=%{x}<br>value=%{y}<extra></extra>",
         "legendgroup": "10",
         "line": {
          "color": "#FECB52",
          "dash": "solid"
         },
         "marker": {
          "symbol": "circle"
         },
         "mode": "lines",
         "name": "10",
         "orientation": "v",
         "showlegend": true,
         "type": "scatter",
         "x": [
          1,
          2,
          3,
          4,
          5,
          6,
          7,
          8,
          9,
          10,
          11,
          12,
          13,
          14,
          15,
          16,
          17,
          18,
          19,
          20,
          21,
          22,
          23,
          24,
          25,
          26,
          27,
          28,
          29,
          30,
          31
         ],
         "xaxis": "x",
         "y": [
          -30,
          -21,
          -22,
          -22,
          -34,
          -17,
          -24,
          -12,
          -7,
          0,
          9,
          -47,
          -18,
          -11,
          -8,
          -6,
          -5,
          2,
          12,
          -2,
          0,
          4,
          -69,
          -52,
          -40,
          -16,
          7,
          -36,
          -30,
          -18,
          -17
         ],
         "yaxis": "y"
        },
        {
         "hovertemplate": "variable=11<br>index=%{x}<br>value=%{y}<extra></extra>",
         "legendgroup": "11",
         "line": {
          "color": "#636efa",
          "dash": "solid"
         },
         "marker": {
          "symbol": "circle"
         },
         "mode": "lines",
         "name": "11",
         "orientation": "v",
         "showlegend": true,
         "type": "scatter",
         "x": [
          1,
          2,
          3,
          4,
          5,
          6,
          7,
          8,
          9,
          10,
          11,
          12,
          13,
          14,
          15,
          16,
          17,
          18,
          19,
          20,
          21,
          22,
          23,
          24,
          25,
          26,
          27,
          28,
          29,
          30,
          31
         ],
         "xaxis": "x",
         "y": [
          -24,
          -20,
          -19,
          -18,
          -33,
          -16,
          -22,
          -17,
          -8,
          -3,
          7,
          -47,
          -20,
          -13,
          -5,
          -8,
          -4,
          4,
          12,
          -6,
          1,
          -3,
          -69,
          -42,
          -40,
          -15,
          -4,
          -37,
          -24,
          -18,
          -12
         ],
         "yaxis": "y"
        },
        {
         "hovertemplate": "variable=12<br>index=%{x}<br>value=%{y}<extra></extra>",
         "legendgroup": "12",
         "line": {
          "color": "#EF553B",
          "dash": "solid"
         },
         "marker": {
          "symbol": "circle"
         },
         "mode": "lines",
         "name": "12",
         "orientation": "v",
         "showlegend": true,
         "type": "scatter",
         "x": [
          1,
          2,
          3,
          4,
          5,
          6,
          7,
          8,
          9,
          10,
          11,
          12,
          13,
          14,
          15,
          16,
          17,
          18,
          19,
          20,
          21,
          22,
          23,
          24,
          25,
          26,
          27,
          28,
          29,
          30,
          31
         ],
         "xaxis": "x",
         "y": [
          -22,
          -17,
          -11,
          -12,
          -26,
          -11,
          -21,
          -18,
          -7,
          -2,
          -1,
          -45,
          -22,
          -17,
          -6,
          -10,
          0,
          5,
          12,
          -5,
          4,
          -3,
          -65,
          -41,
          -34,
          -13,
          -3,
          -33,
          -25,
          -16,
          -6
         ],
         "yaxis": "y"
        },
        {
         "hovertemplate": "variable=13<br>index=%{x}<br>value=%{y}<extra></extra>",
         "legendgroup": "13",
         "line": {
          "color": "#00cc96",
          "dash": "solid"
         },
         "marker": {
          "symbol": "circle"
         },
         "mode": "lines",
         "name": "13",
         "orientation": "v",
         "showlegend": true,
         "type": "scatter",
         "x": [
          1,
          2,
          3,
          4,
          5,
          6,
          7,
          8,
          9,
          10,
          11,
          12,
          13,
          14,
          15,
          16,
          17,
          18,
          19,
          20,
          21,
          22,
          23,
          24,
          25,
          26,
          27,
          28,
          29,
          30,
          31
         ],
         "xaxis": "x",
         "y": [
          -22,
          -16,
          -10,
          -14,
          -22,
          -10,
          -21,
          -19,
          -7,
          -5,
          -11,
          -44,
          -26,
          -19,
          -9,
          -16,
          1,
          8,
          10,
          -9,
          4,
          -4,
          -66,
          -38,
          -31,
          -14,
          0,
          -32,
          -30,
          -13,
          -7
         ],
         "yaxis": "y"
        },
        {
         "hovertemplate": "variable=14<br>index=%{x}<br>value=%{y}<extra></extra>",
         "legendgroup": "14",
         "line": {
          "color": "#ab63fa",
          "dash": "solid"
         },
         "marker": {
          "symbol": "circle"
         },
         "mode": "lines",
         "name": "14",
         "orientation": "v",
         "showlegend": true,
         "type": "scatter",
         "x": [
          1,
          2,
          3,
          4,
          5,
          6,
          7,
          8,
          9,
          10,
          11,
          12,
          13,
          14,
          15,
          16,
          17,
          18,
          19,
          20,
          21,
          22,
          23,
          24,
          25,
          26,
          27,
          28,
          29,
          30,
          31
         ],
         "xaxis": "x",
         "y": [
          -24,
          -17,
          -16,
          -24,
          -21,
          -25,
          -19,
          -16,
          -9,
          -4,
          -15,
          -42,
          -26,
          -19,
          -10,
          -12,
          0,
          7,
          6,
          -11,
          4,
          -5,
          -61,
          -41,
          -29,
          -16,
          3,
          -42,
          -28,
          -16,
          -6
         ],
         "yaxis": "y"
        },
        {
         "hovertemplate": "variable=15<br>index=%{x}<br>value=%{y}<extra></extra>",
         "legendgroup": "15",
         "line": {
          "color": "#FFA15A",
          "dash": "solid"
         },
         "marker": {
          "symbol": "circle"
         },
         "mode": "lines",
         "name": "15",
         "orientation": "v",
         "showlegend": true,
         "type": "scatter",
         "x": [
          1,
          2,
          3,
          4,
          5,
          6,
          7,
          8,
          9,
          10,
          11,
          12,
          13,
          14,
          15,
          16,
          17,
          18,
          19,
          20,
          21,
          22,
          23,
          24,
          25,
          26,
          27,
          28,
          29,
          30,
          31
         ],
         "xaxis": "x",
         "y": [
          -22,
          -16,
          -19,
          -19,
          -24,
          -37,
          -19,
          -18,
          -7,
          -1,
          -7,
          -39,
          -25,
          -18,
          -10,
          -13,
          -1,
          5,
          6,
          -8,
          5,
          1,
          -54,
          -42,
          -26,
          -14,
          12,
          -38,
          -32,
          -18,
          -8
         ],
         "yaxis": "y"
        },
        {
         "hovertemplate": "variable=16<br>index=%{x}<br>value=%{y}<extra></extra>",
         "legendgroup": "16",
         "line": {
          "color": "#19d3f3",
          "dash": "solid"
         },
         "marker": {
          "symbol": "circle"
         },
         "mode": "lines",
         "name": "16",
         "orientation": "v",
         "showlegend": true,
         "type": "scatter",
         "x": [
          1,
          2,
          3,
          4,
          5,
          6,
          7,
          8,
          9,
          10,
          11,
          12,
          13,
          14,
          15,
          16,
          17,
          18,
          19,
          20,
          21,
          22,
          23,
          24,
          25,
          26,
          27,
          28,
          29,
          30,
          31
         ],
         "xaxis": "x",
         "y": [
          -23,
          -16,
          -16,
          -16,
          -21,
          -33,
          -23,
          -16,
          -8,
          1,
          -4,
          -38,
          -25,
          -17,
          -11,
          -11,
          -2,
          6,
          7,
          -2,
          5,
          0,
          -55,
          -43,
          -23,
          -10,
          41,
          -30,
          -32,
          -17,
          -6
         ],
         "yaxis": "y"
        },
        {
         "hovertemplate": "variable=17<br>index=%{x}<br>value=%{y}<extra></extra>",
         "legendgroup": "17",
         "line": {
          "color": "#FF6692",
          "dash": "solid"
         },
         "marker": {
          "symbol": "circle"
         },
         "mode": "lines",
         "name": "17",
         "orientation": "v",
         "showlegend": true,
         "type": "scatter",
         "x": [
          1,
          2,
          3,
          4,
          5,
          6,
          7,
          8,
          9,
          10,
          11,
          12,
          13,
          14,
          15,
          16,
          17,
          18,
          19,
          20,
          21,
          22,
          23,
          24,
          25,
          26,
          27,
          28,
          29,
          30,
          31
         ],
         "xaxis": "x",
         "y": [
          -21,
          -18,
          -18,
          -14,
          -23,
          -34,
          -24,
          -18,
          -5,
          5,
          -11,
          -38,
          -21,
          -13,
          -11,
          -14,
          -2,
          1,
          5,
          -1,
          5,
          -1,
          -57,
          -45,
          -21,
          -12,
          46,
          -25,
          -29,
          -14,
          -4
         ],
         "yaxis": "y"
        },
        {
         "hovertemplate": "variable=18<br>index=%{x}<br>value=%{y}<extra></extra>",
         "legendgroup": "18",
         "line": {
          "color": "#B6E880",
          "dash": "solid"
         },
         "marker": {
          "symbol": "circle"
         },
         "mode": "lines",
         "name": "18",
         "orientation": "v",
         "showlegend": true,
         "type": "scatter",
         "x": [
          1,
          2,
          3,
          4,
          5,
          6,
          7,
          8,
          9,
          10,
          11,
          12,
          13,
          14,
          15,
          16,
          17,
          18,
          19,
          20,
          21,
          22,
          23,
          24,
          25,
          26,
          27,
          28,
          29,
          30,
          31
         ],
         "xaxis": "x",
         "y": [
          -23,
          -19,
          -20,
          -13,
          -30,
          -35,
          -23,
          -18,
          -3,
          10,
          -20,
          -34,
          -21,
          -11,
          -13,
          -15,
          -2,
          -3,
          7,
          -1,
          5,
          -6,
          -47,
          -41,
          -19,
          -11,
          39,
          -21,
          -28,
          -17,
          -6
         ],
         "yaxis": "y"
        },
        {
         "hovertemplate": "variable=19<br>index=%{x}<br>value=%{y}<extra></extra>",
         "legendgroup": "19",
         "line": {
          "color": "#FF97FF",
          "dash": "solid"
         },
         "marker": {
          "symbol": "circle"
         },
         "mode": "lines",
         "name": "19",
         "orientation": "v",
         "showlegend": true,
         "type": "scatter",
         "x": [
          1,
          2,
          3,
          4,
          5,
          6,
          7,
          8,
          9,
          10,
          11,
          12,
          13,
          14,
          15,
          16,
          17,
          18,
          19,
          20,
          21,
          22,
          23,
          24,
          25,
          26,
          27,
          28,
          29,
          30,
          31
         ],
         "xaxis": "x",
         "y": [
          -24,
          -12,
          -17,
          -16,
          -29,
          -33,
          -24,
          -16,
          -1,
          3,
          -34,
          -31,
          -24,
          -16,
          -11,
          -13,
          -1,
          -3,
          10,
          -5,
          5,
          -19,
          -44,
          -36,
          -16,
          -8,
          34,
          -18,
          -33,
          -21,
          -8
         ],
         "yaxis": "y"
        },
        {
         "hovertemplate": "variable=20<br>index=%{x}<br>value=%{y}<extra></extra>",
         "legendgroup": "20",
         "line": {
          "color": "#FECB52",
          "dash": "solid"
         },
         "marker": {
          "symbol": "circle"
         },
         "mode": "lines",
         "name": "20",
         "orientation": "v",
         "showlegend": true,
         "type": "scatter",
         "x": [
          1,
          2,
          3,
          4,
          5,
          6,
          7,
          8,
          9,
          10,
          11,
          12,
          13,
          14,
          15,
          16,
          17,
          18,
          19,
          20,
          21,
          22,
          23,
          24,
          25,
          26,
          27,
          28,
          29,
          30,
          31
         ],
         "xaxis": "x",
         "y": [
          -28,
          -19,
          -18,
          -15,
          -28,
          -30,
          -23,
          -14,
          2,
          1,
          -65,
          -33,
          -24,
          -16,
          -10,
          -11,
          -5,
          -2,
          11,
          -5,
          2,
          -46,
          -45,
          -38,
          -18,
          -4,
          29,
          -11,
          -24,
          -16,
          -11
         ],
         "yaxis": "y"
        },
        {
         "hovertemplate": "variable=21<br>index=%{x}<br>value=%{y}<extra></extra>",
         "legendgroup": "21",
         "line": {
          "color": "#636efa",
          "dash": "solid"
         },
         "marker": {
          "symbol": "circle"
         },
         "mode": "lines",
         "name": "21",
         "orientation": "v",
         "showlegend": true,
         "type": "scatter",
         "x": [
          1,
          2,
          3,
          4,
          5,
          6,
          7,
          8,
          9,
          10,
          11,
          12,
          13,
          14,
          15,
          16,
          17,
          18,
          19,
          20,
          21,
          22,
          23,
          24,
          25,
          26,
          27,
          28,
          29,
          30,
          31
         ],
         "xaxis": "x",
         "y": [
          -25,
          -19,
          -15,
          -17,
          -26,
          -32,
          -23,
          -12,
          3,
          0,
          -73,
          -33,
          -23,
          -20,
          -12,
          -11,
          -8,
          -2,
          9,
          0,
          0,
          -50,
          -47,
          -44,
          -16,
          -5,
          2,
          -7,
          -22,
          -29,
          -12
         ],
         "yaxis": "y"
        },
        {
         "hovertemplate": "variable=22<br>index=%{x}<br>value=%{y}<extra></extra>",
         "legendgroup": "22",
         "line": {
          "color": "#EF553B",
          "dash": "solid"
         },
         "marker": {
          "symbol": "circle"
         },
         "mode": "lines",
         "name": "22",
         "orientation": "v",
         "showlegend": true,
         "type": "scatter",
         "x": [
          1,
          2,
          3,
          4,
          5,
          6,
          7,
          8,
          9,
          10,
          11,
          12,
          13,
          14,
          15,
          16,
          17,
          18,
          19,
          20,
          21,
          22,
          23,
          24,
          25,
          26,
          27,
          28,
          29,
          30,
          31
         ],
         "xaxis": "x",
         "y": [
          -27,
          -17,
          -12,
          -15,
          -29,
          -36,
          -18,
          -11,
          4,
          -5,
          -81,
          -29,
          -21,
          -17,
          -10,
          -9,
          -6,
          -2,
          3,
          2,
          3,
          -68,
          -46,
          -42,
          -15,
          -11,
          -5,
          -11,
          -25,
          -27,
          -14
         ],
         "yaxis": "y"
        },
        {
         "hovertemplate": "variable=23<br>index=%{x}<br>value=%{y}<extra></extra>",
         "legendgroup": "23",
         "line": {
          "color": "#00cc96",
          "dash": "solid"
         },
         "marker": {
          "symbol": "circle"
         },
         "mode": "lines",
         "name": "23",
         "orientation": "v",
         "showlegend": true,
         "type": "scatter",
         "x": [
          1,
          2,
          3,
          4,
          5,
          6,
          7,
          8,
          9,
          10,
          11,
          12,
          13,
          14,
          15,
          16,
          17,
          18,
          19,
          20,
          21,
          22,
          23,
          24,
          25,
          26,
          27,
          28,
          29,
          30,
          31
         ],
         "xaxis": "x",
         "y": [
          -28,
          -15,
          -11,
          -17,
          -26,
          -29,
          -15,
          -10,
          4,
          -8,
          -81,
          -26,
          -21,
          -14,
          -14,
          -9,
          -5,
          -1,
          -2,
          -5,
          4,
          -86,
          -47,
          -39,
          -18,
          -21,
          -7,
          -23,
          -25,
          -21,
          -15
         ],
         "yaxis": "y"
        },
        {
         "hovertemplate": "variable=24<br>index=%{x}<br>value=%{y}<extra></extra>",
         "legendgroup": "24",
         "line": {
          "color": "#ab63fa",
          "dash": "solid"
         },
         "marker": {
          "symbol": "circle"
         },
         "mode": "lines",
         "name": "24",
         "orientation": "v",
         "showlegend": true,
         "type": "scatter",
         "x": [
          1,
          2,
          3,
          4,
          5,
          6,
          7,
          8,
          9,
          10,
          11,
          12,
          13,
          14,
          15,
          16,
          17,
          18,
          19,
          20,
          21,
          22,
          23,
          24,
          25,
          26,
          27,
          28,
          29,
          30,
          31
         ],
         "xaxis": "x",
         "y": [
          -28,
          -14,
          -11,
          -10,
          -19,
          -25,
          -14,
          -9,
          3,
          -6,
          -76,
          -27,
          -25,
          -13,
          -19,
          -9,
          -8,
          1,
          -4,
          -6,
          2,
          -92,
          -44,
          -35,
          -21,
          -27,
          -24,
          -27,
          -28,
          -19,
          -14
         ],
         "yaxis": "y"
        }
       ],
       "layout": {
        "legend": {
         "title": {
          "text": "variable"
         },
         "tracegroupgap": 0
        },
        "margin": {
         "t": 60
        },
        "template": {
         "data": {
          "bar": [
           {
            "error_x": {
             "color": "#f2f5fa"
            },
            "error_y": {
             "color": "#f2f5fa"
            },
            "marker": {
             "line": {
              "color": "rgb(17,17,17)",
              "width": 0.5
             },
             "pattern": {
              "fillmode": "overlay",
              "size": 10,
              "solidity": 0.2
             }
            },
            "type": "bar"
           }
          ],
          "barpolar": [
           {
            "marker": {
             "line": {
              "color": "rgb(17,17,17)",
              "width": 0.5
             },
             "pattern": {
              "fillmode": "overlay",
              "size": 10,
              "solidity": 0.2
             }
            },
            "type": "barpolar"
           }
          ],
          "carpet": [
           {
            "aaxis": {
             "endlinecolor": "#A2B1C6",
             "gridcolor": "#506784",
             "linecolor": "#506784",
             "minorgridcolor": "#506784",
             "startlinecolor": "#A2B1C6"
            },
            "baxis": {
             "endlinecolor": "#A2B1C6",
             "gridcolor": "#506784",
             "linecolor": "#506784",
             "minorgridcolor": "#506784",
             "startlinecolor": "#A2B1C6"
            },
            "type": "carpet"
           }
          ],
          "choropleth": [
           {
            "colorbar": {
             "outlinewidth": 0,
             "ticks": ""
            },
            "type": "choropleth"
           }
          ],
          "contour": [
           {
            "colorbar": {
             "outlinewidth": 0,
             "ticks": ""
            },
            "colorscale": [
             [
              0,
              "#0d0887"
             ],
             [
              0.1111111111111111,
              "#46039f"
             ],
             [
              0.2222222222222222,
              "#7201a8"
             ],
             [
              0.3333333333333333,
              "#9c179e"
             ],
             [
              0.4444444444444444,
              "#bd3786"
             ],
             [
              0.5555555555555556,
              "#d8576b"
             ],
             [
              0.6666666666666666,
              "#ed7953"
             ],
             [
              0.7777777777777778,
              "#fb9f3a"
             ],
             [
              0.8888888888888888,
              "#fdca26"
             ],
             [
              1,
              "#f0f921"
             ]
            ],
            "type": "contour"
           }
          ],
          "contourcarpet": [
           {
            "colorbar": {
             "outlinewidth": 0,
             "ticks": ""
            },
            "type": "contourcarpet"
           }
          ],
          "heatmap": [
           {
            "colorbar": {
             "outlinewidth": 0,
             "ticks": ""
            },
            "colorscale": [
             [
              0,
              "#0d0887"
             ],
             [
              0.1111111111111111,
              "#46039f"
             ],
             [
              0.2222222222222222,
              "#7201a8"
             ],
             [
              0.3333333333333333,
              "#9c179e"
             ],
             [
              0.4444444444444444,
              "#bd3786"
             ],
             [
              0.5555555555555556,
              "#d8576b"
             ],
             [
              0.6666666666666666,
              "#ed7953"
             ],
             [
              0.7777777777777778,
              "#fb9f3a"
             ],
             [
              0.8888888888888888,
              "#fdca26"
             ],
             [
              1,
              "#f0f921"
             ]
            ],
            "type": "heatmap"
           }
          ],
          "heatmapgl": [
           {
            "colorbar": {
             "outlinewidth": 0,
             "ticks": ""
            },
            "colorscale": [
             [
              0,
              "#0d0887"
             ],
             [
              0.1111111111111111,
              "#46039f"
             ],
             [
              0.2222222222222222,
              "#7201a8"
             ],
             [
              0.3333333333333333,
              "#9c179e"
             ],
             [
              0.4444444444444444,
              "#bd3786"
             ],
             [
              0.5555555555555556,
              "#d8576b"
             ],
             [
              0.6666666666666666,
              "#ed7953"
             ],
             [
              0.7777777777777778,
              "#fb9f3a"
             ],
             [
              0.8888888888888888,
              "#fdca26"
             ],
             [
              1,
              "#f0f921"
             ]
            ],
            "type": "heatmapgl"
           }
          ],
          "histogram": [
           {
            "marker": {
             "pattern": {
              "fillmode": "overlay",
              "size": 10,
              "solidity": 0.2
             }
            },
            "type": "histogram"
           }
          ],
          "histogram2d": [
           {
            "colorbar": {
             "outlinewidth": 0,
             "ticks": ""
            },
            "colorscale": [
             [
              0,
              "#0d0887"
             ],
             [
              0.1111111111111111,
              "#46039f"
             ],
             [
              0.2222222222222222,
              "#7201a8"
             ],
             [
              0.3333333333333333,
              "#9c179e"
             ],
             [
              0.4444444444444444,
              "#bd3786"
             ],
             [
              0.5555555555555556,
              "#d8576b"
             ],
             [
              0.6666666666666666,
              "#ed7953"
             ],
             [
              0.7777777777777778,
              "#fb9f3a"
             ],
             [
              0.8888888888888888,
              "#fdca26"
             ],
             [
              1,
              "#f0f921"
             ]
            ],
            "type": "histogram2d"
           }
          ],
          "histogram2dcontour": [
           {
            "colorbar": {
             "outlinewidth": 0,
             "ticks": ""
            },
            "colorscale": [
             [
              0,
              "#0d0887"
             ],
             [
              0.1111111111111111,
              "#46039f"
             ],
             [
              0.2222222222222222,
              "#7201a8"
             ],
             [
              0.3333333333333333,
              "#9c179e"
             ],
             [
              0.4444444444444444,
              "#bd3786"
             ],
             [
              0.5555555555555556,
              "#d8576b"
             ],
             [
              0.6666666666666666,
              "#ed7953"
             ],
             [
              0.7777777777777778,
              "#fb9f3a"
             ],
             [
              0.8888888888888888,
              "#fdca26"
             ],
             [
              1,
              "#f0f921"
             ]
            ],
            "type": "histogram2dcontour"
           }
          ],
          "mesh3d": [
           {
            "colorbar": {
             "outlinewidth": 0,
             "ticks": ""
            },
            "type": "mesh3d"
           }
          ],
          "parcoords": [
           {
            "line": {
             "colorbar": {
              "outlinewidth": 0,
              "ticks": ""
             }
            },
            "type": "parcoords"
           }
          ],
          "pie": [
           {
            "automargin": true,
            "type": "pie"
           }
          ],
          "scatter": [
           {
            "marker": {
             "line": {
              "color": "#283442"
             }
            },
            "type": "scatter"
           }
          ],
          "scatter3d": [
           {
            "line": {
             "colorbar": {
              "outlinewidth": 0,
              "ticks": ""
             }
            },
            "marker": {
             "colorbar": {
              "outlinewidth": 0,
              "ticks": ""
             }
            },
            "type": "scatter3d"
           }
          ],
          "scattercarpet": [
           {
            "marker": {
             "colorbar": {
              "outlinewidth": 0,
              "ticks": ""
             }
            },
            "type": "scattercarpet"
           }
          ],
          "scattergeo": [
           {
            "marker": {
             "colorbar": {
              "outlinewidth": 0,
              "ticks": ""
             }
            },
            "type": "scattergeo"
           }
          ],
          "scattergl": [
           {
            "marker": {
             "line": {
              "color": "#283442"
             }
            },
            "type": "scattergl"
           }
          ],
          "scattermapbox": [
           {
            "marker": {
             "colorbar": {
              "outlinewidth": 0,
              "ticks": ""
             }
            },
            "type": "scattermapbox"
           }
          ],
          "scatterpolar": [
           {
            "marker": {
             "colorbar": {
              "outlinewidth": 0,
              "ticks": ""
             }
            },
            "type": "scatterpolar"
           }
          ],
          "scatterpolargl": [
           {
            "marker": {
             "colorbar": {
              "outlinewidth": 0,
              "ticks": ""
             }
            },
            "type": "scatterpolargl"
           }
          ],
          "scatterternary": [
           {
            "marker": {
             "colorbar": {
              "outlinewidth": 0,
              "ticks": ""
             }
            },
            "type": "scatterternary"
           }
          ],
          "surface": [
           {
            "colorbar": {
             "outlinewidth": 0,
             "ticks": ""
            },
            "colorscale": [
             [
              0,
              "#0d0887"
             ],
             [
              0.1111111111111111,
              "#46039f"
             ],
             [
              0.2222222222222222,
              "#7201a8"
             ],
             [
              0.3333333333333333,
              "#9c179e"
             ],
             [
              0.4444444444444444,
              "#bd3786"
             ],
             [
              0.5555555555555556,
              "#d8576b"
             ],
             [
              0.6666666666666666,
              "#ed7953"
             ],
             [
              0.7777777777777778,
              "#fb9f3a"
             ],
             [
              0.8888888888888888,
              "#fdca26"
             ],
             [
              1,
              "#f0f921"
             ]
            ],
            "type": "surface"
           }
          ],
          "table": [
           {
            "cells": {
             "fill": {
              "color": "#506784"
             },
             "line": {
              "color": "rgb(17,17,17)"
             }
            },
            "header": {
             "fill": {
              "color": "#2a3f5f"
             },
             "line": {
              "color": "rgb(17,17,17)"
             }
            },
            "type": "table"
           }
          ]
         },
         "layout": {
          "annotationdefaults": {
           "arrowcolor": "#f2f5fa",
           "arrowhead": 0,
           "arrowwidth": 1
          },
          "autotypenumbers": "strict",
          "coloraxis": {
           "colorbar": {
            "outlinewidth": 0,
            "ticks": ""
           }
          },
          "colorscale": {
           "diverging": [
            [
             0,
             "#8e0152"
            ],
            [
             0.1,
             "#c51b7d"
            ],
            [
             0.2,
             "#de77ae"
            ],
            [
             0.3,
             "#f1b6da"
            ],
            [
             0.4,
             "#fde0ef"
            ],
            [
             0.5,
             "#f7f7f7"
            ],
            [
             0.6,
             "#e6f5d0"
            ],
            [
             0.7,
             "#b8e186"
            ],
            [
             0.8,
             "#7fbc41"
            ],
            [
             0.9,
             "#4d9221"
            ],
            [
             1,
             "#276419"
            ]
           ],
           "sequential": [
            [
             0,
             "#0d0887"
            ],
            [
             0.1111111111111111,
             "#46039f"
            ],
            [
             0.2222222222222222,
             "#7201a8"
            ],
            [
             0.3333333333333333,
             "#9c179e"
            ],
            [
             0.4444444444444444,
             "#bd3786"
            ],
            [
             0.5555555555555556,
             "#d8576b"
            ],
            [
             0.6666666666666666,
             "#ed7953"
            ],
            [
             0.7777777777777778,
             "#fb9f3a"
            ],
            [
             0.8888888888888888,
             "#fdca26"
            ],
            [
             1,
             "#f0f921"
            ]
           ],
           "sequentialminus": [
            [
             0,
             "#0d0887"
            ],
            [
             0.1111111111111111,
             "#46039f"
            ],
            [
             0.2222222222222222,
             "#7201a8"
            ],
            [
             0.3333333333333333,
             "#9c179e"
            ],
            [
             0.4444444444444444,
             "#bd3786"
            ],
            [
             0.5555555555555556,
             "#d8576b"
            ],
            [
             0.6666666666666666,
             "#ed7953"
            ],
            [
             0.7777777777777778,
             "#fb9f3a"
            ],
            [
             0.8888888888888888,
             "#fdca26"
            ],
            [
             1,
             "#f0f921"
            ]
           ]
          },
          "colorway": [
           "#636efa",
           "#EF553B",
           "#00cc96",
           "#ab63fa",
           "#FFA15A",
           "#19d3f3",
           "#FF6692",
           "#B6E880",
           "#FF97FF",
           "#FECB52"
          ],
          "font": {
           "color": "#f2f5fa"
          },
          "geo": {
           "bgcolor": "rgb(17,17,17)",
           "lakecolor": "rgb(17,17,17)",
           "landcolor": "rgb(17,17,17)",
           "showlakes": true,
           "showland": true,
           "subunitcolor": "#506784"
          },
          "hoverlabel": {
           "align": "left"
          },
          "hovermode": "closest",
          "mapbox": {
           "style": "dark"
          },
          "paper_bgcolor": "rgb(17,17,17)",
          "plot_bgcolor": "rgb(17,17,17)",
          "polar": {
           "angularaxis": {
            "gridcolor": "#506784",
            "linecolor": "#506784",
            "ticks": ""
           },
           "bgcolor": "rgb(17,17,17)",
           "radialaxis": {
            "gridcolor": "#506784",
            "linecolor": "#506784",
            "ticks": ""
           }
          },
          "scene": {
           "xaxis": {
            "backgroundcolor": "rgb(17,17,17)",
            "gridcolor": "#506784",
            "gridwidth": 2,
            "linecolor": "#506784",
            "showbackground": true,
            "ticks": "",
            "zerolinecolor": "#C8D4E3"
           },
           "yaxis": {
            "backgroundcolor": "rgb(17,17,17)",
            "gridcolor": "#506784",
            "gridwidth": 2,
            "linecolor": "#506784",
            "showbackground": true,
            "ticks": "",
            "zerolinecolor": "#C8D4E3"
           },
           "zaxis": {
            "backgroundcolor": "rgb(17,17,17)",
            "gridcolor": "#506784",
            "gridwidth": 2,
            "linecolor": "#506784",
            "showbackground": true,
            "ticks": "",
            "zerolinecolor": "#C8D4E3"
           }
          },
          "shapedefaults": {
           "line": {
            "color": "#f2f5fa"
           }
          },
          "sliderdefaults": {
           "bgcolor": "#C8D4E3",
           "bordercolor": "rgb(17,17,17)",
           "borderwidth": 1,
           "tickwidth": 0
          },
          "ternary": {
           "aaxis": {
            "gridcolor": "#506784",
            "linecolor": "#506784",
            "ticks": ""
           },
           "baxis": {
            "gridcolor": "#506784",
            "linecolor": "#506784",
            "ticks": ""
           },
           "bgcolor": "rgb(17,17,17)",
           "caxis": {
            "gridcolor": "#506784",
            "linecolor": "#506784",
            "ticks": ""
           }
          },
          "title": {
           "x": 0.05
          },
          "updatemenudefaults": {
           "bgcolor": "#506784",
           "borderwidth": 0
          },
          "xaxis": {
           "automargin": true,
           "gridcolor": "#283442",
           "linecolor": "#506784",
           "ticks": "",
           "title": {
            "standoff": 15
           },
           "zerolinecolor": "#283442",
           "zerolinewidth": 2
          },
          "yaxis": {
           "automargin": true,
           "gridcolor": "#283442",
           "linecolor": "#506784",
           "ticks": "",
           "title": {
            "standoff": 15
           },
           "zerolinecolor": "#283442",
           "zerolinewidth": 2
          }
         }
        },
        "xaxis": {
         "anchor": "y",
         "domain": [
          0,
          1
         ],
         "title": {
          "text": "index"
         }
        },
        "yaxis": {
         "anchor": "x",
         "domain": [
          0,
          1
         ],
         "title": {
          "text": "value"
         }
        }
       }
      }
     },
     "metadata": {},
     "output_type": "display_data"
    }
   ],
   "source": [
    "import plotly.express as px\n",
    "\n",
    "fig = px.line(df1, x=df1.index, y=df1.columns, template='plotly_dark')\n",
    "fig.show()"
   ]
  },
  {
   "cell_type": "code",
   "execution_count": 12,
   "metadata": {},
   "outputs": [
    {
     "name": "stderr",
     "output_type": "stream",
     "text": [
      "d:\\Descargas\\Anaconda\\Lib\\site-packages\\plotly\\express\\_core.py:1979: FutureWarning:\n",
      "\n",
      "When grouping with a length-1 list-like, you will need to pass a length-1 tuple to get_group in a future version of pandas. Pass `(name,)` instead of `name` to silence this warning.\n",
      "\n"
     ]
    },
    {
     "data": {
      "application/vnd.plotly.v1+json": {
       "config": {
        "plotlyServerURL": "https://plot.ly"
       },
       "data": [
        {
         "hovertemplate": "variable=1<br>index=%{x}<br>value=%{y}<extra></extra>",
         "legendgroup": "1",
         "marker": {
          "color": "#636efa",
          "symbol": "circle"
         },
         "mode": "markers",
         "name": "1",
         "orientation": "v",
         "showlegend": true,
         "type": "scatter",
         "x": [
          1,
          2,
          3,
          4,
          5,
          6,
          7,
          8,
          9,
          10,
          11,
          12,
          13,
          14,
          15,
          16,
          17,
          18,
          19,
          20,
          21,
          22,
          23,
          24,
          25,
          26,
          27,
          28,
          29,
          30,
          31
         ],
         "xaxis": "x",
         "y": [
          -46,
          -24,
          -17,
          -10,
          -9,
          -19,
          -23,
          -13,
          -7,
          3,
          -9,
          -72,
          -31,
          -22,
          -17,
          -20,
          -10,
          -9,
          1,
          -3,
          -3,
          1,
          -97,
          -38,
          -36,
          -22,
          -27,
          -31,
          -29,
          -24,
          -18
         ],
         "yaxis": "y"
        },
        {
         "hovertemplate": "variable=2<br>index=%{x}<br>value=%{y}<extra></extra>",
         "legendgroup": "2",
         "marker": {
          "color": "#EF553B",
          "symbol": "circle"
         },
         "mode": "markers",
         "name": "2",
         "orientation": "v",
         "showlegend": true,
         "type": "scatter",
         "x": [
          1,
          2,
          3,
          4,
          5,
          6,
          7,
          8,
          9,
          10,
          11,
          12,
          13,
          14,
          15,
          16,
          17,
          18,
          19,
          20,
          21,
          22,
          23,
          24,
          25,
          26,
          27,
          28,
          29,
          30,
          31
         ],
         "xaxis": "x",
         "y": [
          -38,
          -23,
          -21,
          -11,
          -18,
          -20,
          -22,
          -12,
          -9,
          -1,
          -10,
          -65,
          -28,
          -19,
          -20,
          -16,
          -8,
          -8,
          2,
          1,
          -1,
          7,
          -92,
          -38,
          -32,
          -20,
          -24,
          -41,
          -23,
          -22,
          -16
         ],
         "yaxis": "y"
        },
        {
         "hovertemplate": "variable=3<br>index=%{x}<br>value=%{y}<extra></extra>",
         "legendgroup": "3",
         "marker": {
          "color": "#00cc96",
          "symbol": "circle"
         },
         "mode": "markers",
         "name": "3",
         "orientation": "v",
         "showlegend": true,
         "type": "scatter",
         "x": [
          1,
          2,
          3,
          4,
          5,
          6,
          7,
          8,
          9,
          10,
          11,
          12,
          13,
          14,
          15,
          16,
          17,
          18,
          19,
          20,
          21,
          22,
          23,
          24,
          25,
          26,
          27,
          28,
          29,
          30,
          31
         ],
         "xaxis": "x",
         "y": [
          -38,
          -25,
          -21,
          -14,
          -28,
          -17,
          -23,
          -11,
          -10,
          -4,
          -8,
          -66,
          -24,
          -17,
          -19,
          -16,
          -4,
          -9,
          2,
          5,
          1,
          16,
          -96,
          -37,
          -33,
          -17,
          -17,
          -38,
          -23,
          -21,
          -22
         ],
         "yaxis": "y"
        },
        {
         "hovertemplate": "variable=4<br>index=%{x}<br>value=%{y}<extra></extra>",
         "legendgroup": "4",
         "marker": {
          "color": "#ab63fa",
          "symbol": "circle"
         },
         "mode": "markers",
         "name": "4",
         "orientation": "v",
         "showlegend": true,
         "type": "scatter",
         "x": [
          1,
          2,
          3,
          4,
          5,
          6,
          7,
          8,
          9,
          10,
          11,
          12,
          13,
          14,
          15,
          16,
          17,
          18,
          19,
          20,
          21,
          22,
          23,
          24,
          25,
          26,
          27,
          28,
          29,
          30,
          31
         ],
         "xaxis": "x",
         "y": [
          -42,
          -24,
          -20,
          -15,
          -32,
          -15,
          -25,
          -10,
          -11,
          -6,
          -1,
          -65,
          -22,
          -17,
          -15,
          -15,
          -2,
          -7,
          0,
          6,
          -1,
          12,
          -97,
          -39,
          -36,
          -24,
          -12,
          -37,
          -23,
          -19,
          -19
         ],
         "yaxis": "y"
        },
        {
         "hovertemplate": "variable=5<br>index=%{x}<br>value=%{y}<extra></extra>",
         "legendgroup": "5",
         "marker": {
          "color": "#FFA15A",
          "symbol": "circle"
         },
         "mode": "markers",
         "name": "5",
         "orientation": "v",
         "showlegend": true,
         "type": "scatter",
         "x": [
          1,
          2,
          3,
          4,
          5,
          6,
          7,
          8,
          9,
          10,
          11,
          12,
          13,
          14,
          15,
          16,
          17,
          18,
          19,
          20,
          21,
          22,
          23,
          24,
          25,
          26,
          27,
          28,
          29,
          30,
          31
         ],
         "xaxis": "x",
         "y": [
          -45,
          -26,
          -23,
          -16,
          -28,
          -14,
          -30,
          -9,
          -8,
          -4,
          4,
          -58,
          -24,
          -19,
          -14,
          -11,
          -5,
          -6,
          -1,
          1,
          -4,
          9,
          -79,
          -43,
          -41,
          -30,
          -13,
          -40,
          -27,
          -22,
          -18
         ],
         "yaxis": "y"
        },
        {
         "hovertemplate": "variable=6<br>index=%{x}<br>value=%{y}<extra></extra>",
         "legendgroup": "6",
         "marker": {
          "color": "#19d3f3",
          "symbol": "circle"
         },
         "mode": "markers",
         "name": "6",
         "orientation": "v",
         "showlegend": true,
         "type": "scatter",
         "x": [
          1,
          2,
          3,
          4,
          5,
          6,
          7,
          8,
          9,
          10,
          11,
          12,
          13,
          14,
          15,
          16,
          17,
          18,
          19,
          20,
          21,
          22,
          23,
          24,
          25,
          26,
          27,
          28,
          29,
          30,
          31
         ],
         "xaxis": "x",
         "y": [
          -40,
          -29,
          -20,
          -15,
          -23,
          -18,
          -28,
          -10,
          -6,
          1,
          8,
          -58,
          -23,
          -17,
          -9,
          -9,
          -7,
          -2,
          6,
          -3,
          -5,
          11,
          -65,
          -47,
          -39,
          -28,
          -12,
          -35,
          -28,
          -24,
          -18
         ],
         "yaxis": "y"
        },
        {
         "hovertemplate": "variable=7<br>index=%{x}<br>value=%{y}<extra></extra>",
         "legendgroup": "7",
         "marker": {
          "color": "#FF6692",
          "symbol": "circle"
         },
         "mode": "markers",
         "name": "7",
         "orientation": "v",
         "showlegend": true,
         "type": "scatter",
         "x": [
          1,
          2,
          3,
          4,
          5,
          6,
          7,
          8,
          9,
          10,
          11,
          12,
          13,
          14,
          15,
          16,
          17,
          18,
          19,
          20,
          21,
          22,
          23,
          24,
          25,
          26,
          27,
          28,
          29,
          30,
          31
         ],
         "xaxis": "x",
         "y": [
          -38,
          -22,
          -23,
          -14,
          -23,
          -17,
          -25,
          -12,
          -4,
          3,
          10,
          -52,
          -23,
          -16,
          -8,
          -8,
          -6,
          0,
          10,
          -5,
          -6,
          6,
          -66,
          -44,
          -39,
          -22,
          -1,
          -36,
          -29,
          -25,
          -20
         ],
         "yaxis": "y"
        },
        {
         "hovertemplate": "variable=8<br>index=%{x}<br>value=%{y}<extra></extra>",
         "legendgroup": "8",
         "marker": {
          "color": "#B6E880",
          "symbol": "circle"
         },
         "mode": "markers",
         "name": "8",
         "orientation": "v",
         "showlegend": true,
         "type": "scatter",
         "x": [
          1,
          2,
          3,
          4,
          5,
          6,
          7,
          8,
          9,
          10,
          11,
          12,
          13,
          14,
          15,
          16,
          17,
          18,
          19,
          20,
          21,
          22,
          23,
          24,
          25,
          26,
          27,
          28,
          29,
          30,
          31
         ],
         "xaxis": "x",
         "y": [
          -35,
          -20,
          -21,
          -18,
          -34,
          -14,
          -20,
          -11,
          -3,
          -1,
          12,
          -51,
          -26,
          -13,
          -9,
          -6,
          -8,
          0,
          14,
          -1,
          -4,
          1,
          -62,
          -43,
          -39,
          -17,
          5,
          -30,
          -22,
          -18,
          -19
         ],
         "yaxis": "y"
        },
        {
         "hovertemplate": "variable=9<br>index=%{x}<br>value=%{y}<extra></extra>",
         "legendgroup": "9",
         "marker": {
          "color": "#FF97FF",
          "symbol": "circle"
         },
         "mode": "markers",
         "name": "9",
         "orientation": "v",
         "showlegend": true,
         "type": "scatter",
         "x": [
          1,
          2,
          3,
          4,
          5,
          6,
          7,
          8,
          9,
          10,
          11,
          12,
          13,
          14,
          15,
          16,
          17,
          18,
          19,
          20,
          21,
          22,
          23,
          24,
          25,
          26,
          27,
          28,
          29,
          30,
          31
         ],
         "xaxis": "x",
         "y": [
          -38,
          -21,
          -19,
          -20,
          -32,
          -11,
          -20,
          -9,
          -5,
          -1,
          12,
          -48,
          -22,
          -12,
          -9,
          -8,
          -8,
          0,
          15,
          4,
          -1,
          8,
          -63,
          -46,
          -39,
          -16,
          8,
          -28,
          -28,
          -17,
          -18
         ],
         "yaxis": "y"
        },
        {
         "hovertemplate": "variable=10<br>index=%{x}<br>value=%{y}<extra></extra>",
         "legendgroup": "10",
         "marker": {
          "color": "#FECB52",
          "symbol": "circle"
         },
         "mode": "markers",
         "name": "10",
         "orientation": "v",
         "showlegend": true,
         "type": "scatter",
         "x": [
          1,
          2,
          3,
          4,
          5,
          6,
          7,
          8,
          9,
          10,
          11,
          12,
          13,
          14,
          15,
          16,
          17,
          18,
          19,
          20,
          21,
          22,
          23,
          24,
          25,
          26,
          27,
          28,
          29,
          30,
          31
         ],
         "xaxis": "x",
         "y": [
          -30,
          -21,
          -22,
          -22,
          -34,
          -17,
          -24,
          -12,
          -7,
          0,
          9,
          -47,
          -18,
          -11,
          -8,
          -6,
          -5,
          2,
          12,
          -2,
          0,
          4,
          -69,
          -52,
          -40,
          -16,
          7,
          -36,
          -30,
          -18,
          -17
         ],
         "yaxis": "y"
        },
        {
         "hovertemplate": "variable=11<br>index=%{x}<br>value=%{y}<extra></extra>",
         "legendgroup": "11",
         "marker": {
          "color": "#636efa",
          "symbol": "circle"
         },
         "mode": "markers",
         "name": "11",
         "orientation": "v",
         "showlegend": true,
         "type": "scatter",
         "x": [
          1,
          2,
          3,
          4,
          5,
          6,
          7,
          8,
          9,
          10,
          11,
          12,
          13,
          14,
          15,
          16,
          17,
          18,
          19,
          20,
          21,
          22,
          23,
          24,
          25,
          26,
          27,
          28,
          29,
          30,
          31
         ],
         "xaxis": "x",
         "y": [
          -24,
          -20,
          -19,
          -18,
          -33,
          -16,
          -22,
          -17,
          -8,
          -3,
          7,
          -47,
          -20,
          -13,
          -5,
          -8,
          -4,
          4,
          12,
          -6,
          1,
          -3,
          -69,
          -42,
          -40,
          -15,
          -4,
          -37,
          -24,
          -18,
          -12
         ],
         "yaxis": "y"
        },
        {
         "hovertemplate": "variable=12<br>index=%{x}<br>value=%{y}<extra></extra>",
         "legendgroup": "12",
         "marker": {
          "color": "#EF553B",
          "symbol": "circle"
         },
         "mode": "markers",
         "name": "12",
         "orientation": "v",
         "showlegend": true,
         "type": "scatter",
         "x": [
          1,
          2,
          3,
          4,
          5,
          6,
          7,
          8,
          9,
          10,
          11,
          12,
          13,
          14,
          15,
          16,
          17,
          18,
          19,
          20,
          21,
          22,
          23,
          24,
          25,
          26,
          27,
          28,
          29,
          30,
          31
         ],
         "xaxis": "x",
         "y": [
          -22,
          -17,
          -11,
          -12,
          -26,
          -11,
          -21,
          -18,
          -7,
          -2,
          -1,
          -45,
          -22,
          -17,
          -6,
          -10,
          0,
          5,
          12,
          -5,
          4,
          -3,
          -65,
          -41,
          -34,
          -13,
          -3,
          -33,
          -25,
          -16,
          -6
         ],
         "yaxis": "y"
        },
        {
         "hovertemplate": "variable=13<br>index=%{x}<br>value=%{y}<extra></extra>",
         "legendgroup": "13",
         "marker": {
          "color": "#00cc96",
          "symbol": "circle"
         },
         "mode": "markers",
         "name": "13",
         "orientation": "v",
         "showlegend": true,
         "type": "scatter",
         "x": [
          1,
          2,
          3,
          4,
          5,
          6,
          7,
          8,
          9,
          10,
          11,
          12,
          13,
          14,
          15,
          16,
          17,
          18,
          19,
          20,
          21,
          22,
          23,
          24,
          25,
          26,
          27,
          28,
          29,
          30,
          31
         ],
         "xaxis": "x",
         "y": [
          -22,
          -16,
          -10,
          -14,
          -22,
          -10,
          -21,
          -19,
          -7,
          -5,
          -11,
          -44,
          -26,
          -19,
          -9,
          -16,
          1,
          8,
          10,
          -9,
          4,
          -4,
          -66,
          -38,
          -31,
          -14,
          0,
          -32,
          -30,
          -13,
          -7
         ],
         "yaxis": "y"
        },
        {
         "hovertemplate": "variable=14<br>index=%{x}<br>value=%{y}<extra></extra>",
         "legendgroup": "14",
         "marker": {
          "color": "#ab63fa",
          "symbol": "circle"
         },
         "mode": "markers",
         "name": "14",
         "orientation": "v",
         "showlegend": true,
         "type": "scatter",
         "x": [
          1,
          2,
          3,
          4,
          5,
          6,
          7,
          8,
          9,
          10,
          11,
          12,
          13,
          14,
          15,
          16,
          17,
          18,
          19,
          20,
          21,
          22,
          23,
          24,
          25,
          26,
          27,
          28,
          29,
          30,
          31
         ],
         "xaxis": "x",
         "y": [
          -24,
          -17,
          -16,
          -24,
          -21,
          -25,
          -19,
          -16,
          -9,
          -4,
          -15,
          -42,
          -26,
          -19,
          -10,
          -12,
          0,
          7,
          6,
          -11,
          4,
          -5,
          -61,
          -41,
          -29,
          -16,
          3,
          -42,
          -28,
          -16,
          -6
         ],
         "yaxis": "y"
        },
        {
         "hovertemplate": "variable=15<br>index=%{x}<br>value=%{y}<extra></extra>",
         "legendgroup": "15",
         "marker": {
          "color": "#FFA15A",
          "symbol": "circle"
         },
         "mode": "markers",
         "name": "15",
         "orientation": "v",
         "showlegend": true,
         "type": "scatter",
         "x": [
          1,
          2,
          3,
          4,
          5,
          6,
          7,
          8,
          9,
          10,
          11,
          12,
          13,
          14,
          15,
          16,
          17,
          18,
          19,
          20,
          21,
          22,
          23,
          24,
          25,
          26,
          27,
          28,
          29,
          30,
          31
         ],
         "xaxis": "x",
         "y": [
          -22,
          -16,
          -19,
          -19,
          -24,
          -37,
          -19,
          -18,
          -7,
          -1,
          -7,
          -39,
          -25,
          -18,
          -10,
          -13,
          -1,
          5,
          6,
          -8,
          5,
          1,
          -54,
          -42,
          -26,
          -14,
          12,
          -38,
          -32,
          -18,
          -8
         ],
         "yaxis": "y"
        },
        {
         "hovertemplate": "variable=16<br>index=%{x}<br>value=%{y}<extra></extra>",
         "legendgroup": "16",
         "marker": {
          "color": "#19d3f3",
          "symbol": "circle"
         },
         "mode": "markers",
         "name": "16",
         "orientation": "v",
         "showlegend": true,
         "type": "scatter",
         "x": [
          1,
          2,
          3,
          4,
          5,
          6,
          7,
          8,
          9,
          10,
          11,
          12,
          13,
          14,
          15,
          16,
          17,
          18,
          19,
          20,
          21,
          22,
          23,
          24,
          25,
          26,
          27,
          28,
          29,
          30,
          31
         ],
         "xaxis": "x",
         "y": [
          -23,
          -16,
          -16,
          -16,
          -21,
          -33,
          -23,
          -16,
          -8,
          1,
          -4,
          -38,
          -25,
          -17,
          -11,
          -11,
          -2,
          6,
          7,
          -2,
          5,
          0,
          -55,
          -43,
          -23,
          -10,
          41,
          -30,
          -32,
          -17,
          -6
         ],
         "yaxis": "y"
        },
        {
         "hovertemplate": "variable=17<br>index=%{x}<br>value=%{y}<extra></extra>",
         "legendgroup": "17",
         "marker": {
          "color": "#FF6692",
          "symbol": "circle"
         },
         "mode": "markers",
         "name": "17",
         "orientation": "v",
         "showlegend": true,
         "type": "scatter",
         "x": [
          1,
          2,
          3,
          4,
          5,
          6,
          7,
          8,
          9,
          10,
          11,
          12,
          13,
          14,
          15,
          16,
          17,
          18,
          19,
          20,
          21,
          22,
          23,
          24,
          25,
          26,
          27,
          28,
          29,
          30,
          31
         ],
         "xaxis": "x",
         "y": [
          -21,
          -18,
          -18,
          -14,
          -23,
          -34,
          -24,
          -18,
          -5,
          5,
          -11,
          -38,
          -21,
          -13,
          -11,
          -14,
          -2,
          1,
          5,
          -1,
          5,
          -1,
          -57,
          -45,
          -21,
          -12,
          46,
          -25,
          -29,
          -14,
          -4
         ],
         "yaxis": "y"
        },
        {
         "hovertemplate": "variable=18<br>index=%{x}<br>value=%{y}<extra></extra>",
         "legendgroup": "18",
         "marker": {
          "color": "#B6E880",
          "symbol": "circle"
         },
         "mode": "markers",
         "name": "18",
         "orientation": "v",
         "showlegend": true,
         "type": "scatter",
         "x": [
          1,
          2,
          3,
          4,
          5,
          6,
          7,
          8,
          9,
          10,
          11,
          12,
          13,
          14,
          15,
          16,
          17,
          18,
          19,
          20,
          21,
          22,
          23,
          24,
          25,
          26,
          27,
          28,
          29,
          30,
          31
         ],
         "xaxis": "x",
         "y": [
          -23,
          -19,
          -20,
          -13,
          -30,
          -35,
          -23,
          -18,
          -3,
          10,
          -20,
          -34,
          -21,
          -11,
          -13,
          -15,
          -2,
          -3,
          7,
          -1,
          5,
          -6,
          -47,
          -41,
          -19,
          -11,
          39,
          -21,
          -28,
          -17,
          -6
         ],
         "yaxis": "y"
        },
        {
         "hovertemplate": "variable=19<br>index=%{x}<br>value=%{y}<extra></extra>",
         "legendgroup": "19",
         "marker": {
          "color": "#FF97FF",
          "symbol": "circle"
         },
         "mode": "markers",
         "name": "19",
         "orientation": "v",
         "showlegend": true,
         "type": "scatter",
         "x": [
          1,
          2,
          3,
          4,
          5,
          6,
          7,
          8,
          9,
          10,
          11,
          12,
          13,
          14,
          15,
          16,
          17,
          18,
          19,
          20,
          21,
          22,
          23,
          24,
          25,
          26,
          27,
          28,
          29,
          30,
          31
         ],
         "xaxis": "x",
         "y": [
          -24,
          -12,
          -17,
          -16,
          -29,
          -33,
          -24,
          -16,
          -1,
          3,
          -34,
          -31,
          -24,
          -16,
          -11,
          -13,
          -1,
          -3,
          10,
          -5,
          5,
          -19,
          -44,
          -36,
          -16,
          -8,
          34,
          -18,
          -33,
          -21,
          -8
         ],
         "yaxis": "y"
        },
        {
         "hovertemplate": "variable=20<br>index=%{x}<br>value=%{y}<extra></extra>",
         "legendgroup": "20",
         "marker": {
          "color": "#FECB52",
          "symbol": "circle"
         },
         "mode": "markers",
         "name": "20",
         "orientation": "v",
         "showlegend": true,
         "type": "scatter",
         "x": [
          1,
          2,
          3,
          4,
          5,
          6,
          7,
          8,
          9,
          10,
          11,
          12,
          13,
          14,
          15,
          16,
          17,
          18,
          19,
          20,
          21,
          22,
          23,
          24,
          25,
          26,
          27,
          28,
          29,
          30,
          31
         ],
         "xaxis": "x",
         "y": [
          -28,
          -19,
          -18,
          -15,
          -28,
          -30,
          -23,
          -14,
          2,
          1,
          -65,
          -33,
          -24,
          -16,
          -10,
          -11,
          -5,
          -2,
          11,
          -5,
          2,
          -46,
          -45,
          -38,
          -18,
          -4,
          29,
          -11,
          -24,
          -16,
          -11
         ],
         "yaxis": "y"
        },
        {
         "hovertemplate": "variable=21<br>index=%{x}<br>value=%{y}<extra></extra>",
         "legendgroup": "21",
         "marker": {
          "color": "#636efa",
          "symbol": "circle"
         },
         "mode": "markers",
         "name": "21",
         "orientation": "v",
         "showlegend": true,
         "type": "scatter",
         "x": [
          1,
          2,
          3,
          4,
          5,
          6,
          7,
          8,
          9,
          10,
          11,
          12,
          13,
          14,
          15,
          16,
          17,
          18,
          19,
          20,
          21,
          22,
          23,
          24,
          25,
          26,
          27,
          28,
          29,
          30,
          31
         ],
         "xaxis": "x",
         "y": [
          -25,
          -19,
          -15,
          -17,
          -26,
          -32,
          -23,
          -12,
          3,
          0,
          -73,
          -33,
          -23,
          -20,
          -12,
          -11,
          -8,
          -2,
          9,
          0,
          0,
          -50,
          -47,
          -44,
          -16,
          -5,
          2,
          -7,
          -22,
          -29,
          -12
         ],
         "yaxis": "y"
        },
        {
         "hovertemplate": "variable=22<br>index=%{x}<br>value=%{y}<extra></extra>",
         "legendgroup": "22",
         "marker": {
          "color": "#EF553B",
          "symbol": "circle"
         },
         "mode": "markers",
         "name": "22",
         "orientation": "v",
         "showlegend": true,
         "type": "scatter",
         "x": [
          1,
          2,
          3,
          4,
          5,
          6,
          7,
          8,
          9,
          10,
          11,
          12,
          13,
          14,
          15,
          16,
          17,
          18,
          19,
          20,
          21,
          22,
          23,
          24,
          25,
          26,
          27,
          28,
          29,
          30,
          31
         ],
         "xaxis": "x",
         "y": [
          -27,
          -17,
          -12,
          -15,
          -29,
          -36,
          -18,
          -11,
          4,
          -5,
          -81,
          -29,
          -21,
          -17,
          -10,
          -9,
          -6,
          -2,
          3,
          2,
          3,
          -68,
          -46,
          -42,
          -15,
          -11,
          -5,
          -11,
          -25,
          -27,
          -14
         ],
         "yaxis": "y"
        },
        {
         "hovertemplate": "variable=23<br>index=%{x}<br>value=%{y}<extra></extra>",
         "legendgroup": "23",
         "marker": {
          "color": "#00cc96",
          "symbol": "circle"
         },
         "mode": "markers",
         "name": "23",
         "orientation": "v",
         "showlegend": true,
         "type": "scatter",
         "x": [
          1,
          2,
          3,
          4,
          5,
          6,
          7,
          8,
          9,
          10,
          11,
          12,
          13,
          14,
          15,
          16,
          17,
          18,
          19,
          20,
          21,
          22,
          23,
          24,
          25,
          26,
          27,
          28,
          29,
          30,
          31
         ],
         "xaxis": "x",
         "y": [
          -28,
          -15,
          -11,
          -17,
          -26,
          -29,
          -15,
          -10,
          4,
          -8,
          -81,
          -26,
          -21,
          -14,
          -14,
          -9,
          -5,
          -1,
          -2,
          -5,
          4,
          -86,
          -47,
          -39,
          -18,
          -21,
          -7,
          -23,
          -25,
          -21,
          -15
         ],
         "yaxis": "y"
        },
        {
         "hovertemplate": "variable=24<br>index=%{x}<br>value=%{y}<extra></extra>",
         "legendgroup": "24",
         "marker": {
          "color": "#ab63fa",
          "symbol": "circle"
         },
         "mode": "markers",
         "name": "24",
         "orientation": "v",
         "showlegend": true,
         "type": "scatter",
         "x": [
          1,
          2,
          3,
          4,
          5,
          6,
          7,
          8,
          9,
          10,
          11,
          12,
          13,
          14,
          15,
          16,
          17,
          18,
          19,
          20,
          21,
          22,
          23,
          24,
          25,
          26,
          27,
          28,
          29,
          30,
          31
         ],
         "xaxis": "x",
         "y": [
          -28,
          -14,
          -11,
          -10,
          -19,
          -25,
          -14,
          -9,
          3,
          -6,
          -76,
          -27,
          -25,
          -13,
          -19,
          -9,
          -8,
          1,
          -4,
          -6,
          2,
          -92,
          -44,
          -35,
          -21,
          -27,
          -24,
          -27,
          -28,
          -19,
          -14
         ],
         "yaxis": "y"
        }
       ],
       "layout": {
        "legend": {
         "title": {
          "text": "variable"
         },
         "tracegroupgap": 0
        },
        "margin": {
         "t": 60
        },
        "template": {
         "data": {
          "bar": [
           {
            "error_x": {
             "color": "#f2f5fa"
            },
            "error_y": {
             "color": "#f2f5fa"
            },
            "marker": {
             "line": {
              "color": "rgb(17,17,17)",
              "width": 0.5
             },
             "pattern": {
              "fillmode": "overlay",
              "size": 10,
              "solidity": 0.2
             }
            },
            "type": "bar"
           }
          ],
          "barpolar": [
           {
            "marker": {
             "line": {
              "color": "rgb(17,17,17)",
              "width": 0.5
             },
             "pattern": {
              "fillmode": "overlay",
              "size": 10,
              "solidity": 0.2
             }
            },
            "type": "barpolar"
           }
          ],
          "carpet": [
           {
            "aaxis": {
             "endlinecolor": "#A2B1C6",
             "gridcolor": "#506784",
             "linecolor": "#506784",
             "minorgridcolor": "#506784",
             "startlinecolor": "#A2B1C6"
            },
            "baxis": {
             "endlinecolor": "#A2B1C6",
             "gridcolor": "#506784",
             "linecolor": "#506784",
             "minorgridcolor": "#506784",
             "startlinecolor": "#A2B1C6"
            },
            "type": "carpet"
           }
          ],
          "choropleth": [
           {
            "colorbar": {
             "outlinewidth": 0,
             "ticks": ""
            },
            "type": "choropleth"
           }
          ],
          "contour": [
           {
            "colorbar": {
             "outlinewidth": 0,
             "ticks": ""
            },
            "colorscale": [
             [
              0,
              "#0d0887"
             ],
             [
              0.1111111111111111,
              "#46039f"
             ],
             [
              0.2222222222222222,
              "#7201a8"
             ],
             [
              0.3333333333333333,
              "#9c179e"
             ],
             [
              0.4444444444444444,
              "#bd3786"
             ],
             [
              0.5555555555555556,
              "#d8576b"
             ],
             [
              0.6666666666666666,
              "#ed7953"
             ],
             [
              0.7777777777777778,
              "#fb9f3a"
             ],
             [
              0.8888888888888888,
              "#fdca26"
             ],
             [
              1,
              "#f0f921"
             ]
            ],
            "type": "contour"
           }
          ],
          "contourcarpet": [
           {
            "colorbar": {
             "outlinewidth": 0,
             "ticks": ""
            },
            "type": "contourcarpet"
           }
          ],
          "heatmap": [
           {
            "colorbar": {
             "outlinewidth": 0,
             "ticks": ""
            },
            "colorscale": [
             [
              0,
              "#0d0887"
             ],
             [
              0.1111111111111111,
              "#46039f"
             ],
             [
              0.2222222222222222,
              "#7201a8"
             ],
             [
              0.3333333333333333,
              "#9c179e"
             ],
             [
              0.4444444444444444,
              "#bd3786"
             ],
             [
              0.5555555555555556,
              "#d8576b"
             ],
             [
              0.6666666666666666,
              "#ed7953"
             ],
             [
              0.7777777777777778,
              "#fb9f3a"
             ],
             [
              0.8888888888888888,
              "#fdca26"
             ],
             [
              1,
              "#f0f921"
             ]
            ],
            "type": "heatmap"
           }
          ],
          "heatmapgl": [
           {
            "colorbar": {
             "outlinewidth": 0,
             "ticks": ""
            },
            "colorscale": [
             [
              0,
              "#0d0887"
             ],
             [
              0.1111111111111111,
              "#46039f"
             ],
             [
              0.2222222222222222,
              "#7201a8"
             ],
             [
              0.3333333333333333,
              "#9c179e"
             ],
             [
              0.4444444444444444,
              "#bd3786"
             ],
             [
              0.5555555555555556,
              "#d8576b"
             ],
             [
              0.6666666666666666,
              "#ed7953"
             ],
             [
              0.7777777777777778,
              "#fb9f3a"
             ],
             [
              0.8888888888888888,
              "#fdca26"
             ],
             [
              1,
              "#f0f921"
             ]
            ],
            "type": "heatmapgl"
           }
          ],
          "histogram": [
           {
            "marker": {
             "pattern": {
              "fillmode": "overlay",
              "size": 10,
              "solidity": 0.2
             }
            },
            "type": "histogram"
           }
          ],
          "histogram2d": [
           {
            "colorbar": {
             "outlinewidth": 0,
             "ticks": ""
            },
            "colorscale": [
             [
              0,
              "#0d0887"
             ],
             [
              0.1111111111111111,
              "#46039f"
             ],
             [
              0.2222222222222222,
              "#7201a8"
             ],
             [
              0.3333333333333333,
              "#9c179e"
             ],
             [
              0.4444444444444444,
              "#bd3786"
             ],
             [
              0.5555555555555556,
              "#d8576b"
             ],
             [
              0.6666666666666666,
              "#ed7953"
             ],
             [
              0.7777777777777778,
              "#fb9f3a"
             ],
             [
              0.8888888888888888,
              "#fdca26"
             ],
             [
              1,
              "#f0f921"
             ]
            ],
            "type": "histogram2d"
           }
          ],
          "histogram2dcontour": [
           {
            "colorbar": {
             "outlinewidth": 0,
             "ticks": ""
            },
            "colorscale": [
             [
              0,
              "#0d0887"
             ],
             [
              0.1111111111111111,
              "#46039f"
             ],
             [
              0.2222222222222222,
              "#7201a8"
             ],
             [
              0.3333333333333333,
              "#9c179e"
             ],
             [
              0.4444444444444444,
              "#bd3786"
             ],
             [
              0.5555555555555556,
              "#d8576b"
             ],
             [
              0.6666666666666666,
              "#ed7953"
             ],
             [
              0.7777777777777778,
              "#fb9f3a"
             ],
             [
              0.8888888888888888,
              "#fdca26"
             ],
             [
              1,
              "#f0f921"
             ]
            ],
            "type": "histogram2dcontour"
           }
          ],
          "mesh3d": [
           {
            "colorbar": {
             "outlinewidth": 0,
             "ticks": ""
            },
            "type": "mesh3d"
           }
          ],
          "parcoords": [
           {
            "line": {
             "colorbar": {
              "outlinewidth": 0,
              "ticks": ""
             }
            },
            "type": "parcoords"
           }
          ],
          "pie": [
           {
            "automargin": true,
            "type": "pie"
           }
          ],
          "scatter": [
           {
            "marker": {
             "line": {
              "color": "#283442"
             }
            },
            "type": "scatter"
           }
          ],
          "scatter3d": [
           {
            "line": {
             "colorbar": {
              "outlinewidth": 0,
              "ticks": ""
             }
            },
            "marker": {
             "colorbar": {
              "outlinewidth": 0,
              "ticks": ""
             }
            },
            "type": "scatter3d"
           }
          ],
          "scattercarpet": [
           {
            "marker": {
             "colorbar": {
              "outlinewidth": 0,
              "ticks": ""
             }
            },
            "type": "scattercarpet"
           }
          ],
          "scattergeo": [
           {
            "marker": {
             "colorbar": {
              "outlinewidth": 0,
              "ticks": ""
             }
            },
            "type": "scattergeo"
           }
          ],
          "scattergl": [
           {
            "marker": {
             "line": {
              "color": "#283442"
             }
            },
            "type": "scattergl"
           }
          ],
          "scattermapbox": [
           {
            "marker": {
             "colorbar": {
              "outlinewidth": 0,
              "ticks": ""
             }
            },
            "type": "scattermapbox"
           }
          ],
          "scatterpolar": [
           {
            "marker": {
             "colorbar": {
              "outlinewidth": 0,
              "ticks": ""
             }
            },
            "type": "scatterpolar"
           }
          ],
          "scatterpolargl": [
           {
            "marker": {
             "colorbar": {
              "outlinewidth": 0,
              "ticks": ""
             }
            },
            "type": "scatterpolargl"
           }
          ],
          "scatterternary": [
           {
            "marker": {
             "colorbar": {
              "outlinewidth": 0,
              "ticks": ""
             }
            },
            "type": "scatterternary"
           }
          ],
          "surface": [
           {
            "colorbar": {
             "outlinewidth": 0,
             "ticks": ""
            },
            "colorscale": [
             [
              0,
              "#0d0887"
             ],
             [
              0.1111111111111111,
              "#46039f"
             ],
             [
              0.2222222222222222,
              "#7201a8"
             ],
             [
              0.3333333333333333,
              "#9c179e"
             ],
             [
              0.4444444444444444,
              "#bd3786"
             ],
             [
              0.5555555555555556,
              "#d8576b"
             ],
             [
              0.6666666666666666,
              "#ed7953"
             ],
             [
              0.7777777777777778,
              "#fb9f3a"
             ],
             [
              0.8888888888888888,
              "#fdca26"
             ],
             [
              1,
              "#f0f921"
             ]
            ],
            "type": "surface"
           }
          ],
          "table": [
           {
            "cells": {
             "fill": {
              "color": "#506784"
             },
             "line": {
              "color": "rgb(17,17,17)"
             }
            },
            "header": {
             "fill": {
              "color": "#2a3f5f"
             },
             "line": {
              "color": "rgb(17,17,17)"
             }
            },
            "type": "table"
           }
          ]
         },
         "layout": {
          "annotationdefaults": {
           "arrowcolor": "#f2f5fa",
           "arrowhead": 0,
           "arrowwidth": 1
          },
          "autotypenumbers": "strict",
          "coloraxis": {
           "colorbar": {
            "outlinewidth": 0,
            "ticks": ""
           }
          },
          "colorscale": {
           "diverging": [
            [
             0,
             "#8e0152"
            ],
            [
             0.1,
             "#c51b7d"
            ],
            [
             0.2,
             "#de77ae"
            ],
            [
             0.3,
             "#f1b6da"
            ],
            [
             0.4,
             "#fde0ef"
            ],
            [
             0.5,
             "#f7f7f7"
            ],
            [
             0.6,
             "#e6f5d0"
            ],
            [
             0.7,
             "#b8e186"
            ],
            [
             0.8,
             "#7fbc41"
            ],
            [
             0.9,
             "#4d9221"
            ],
            [
             1,
             "#276419"
            ]
           ],
           "sequential": [
            [
             0,
             "#0d0887"
            ],
            [
             0.1111111111111111,
             "#46039f"
            ],
            [
             0.2222222222222222,
             "#7201a8"
            ],
            [
             0.3333333333333333,
             "#9c179e"
            ],
            [
             0.4444444444444444,
             "#bd3786"
            ],
            [
             0.5555555555555556,
             "#d8576b"
            ],
            [
             0.6666666666666666,
             "#ed7953"
            ],
            [
             0.7777777777777778,
             "#fb9f3a"
            ],
            [
             0.8888888888888888,
             "#fdca26"
            ],
            [
             1,
             "#f0f921"
            ]
           ],
           "sequentialminus": [
            [
             0,
             "#0d0887"
            ],
            [
             0.1111111111111111,
             "#46039f"
            ],
            [
             0.2222222222222222,
             "#7201a8"
            ],
            [
             0.3333333333333333,
             "#9c179e"
            ],
            [
             0.4444444444444444,
             "#bd3786"
            ],
            [
             0.5555555555555556,
             "#d8576b"
            ],
            [
             0.6666666666666666,
             "#ed7953"
            ],
            [
             0.7777777777777778,
             "#fb9f3a"
            ],
            [
             0.8888888888888888,
             "#fdca26"
            ],
            [
             1,
             "#f0f921"
            ]
           ]
          },
          "colorway": [
           "#636efa",
           "#EF553B",
           "#00cc96",
           "#ab63fa",
           "#FFA15A",
           "#19d3f3",
           "#FF6692",
           "#B6E880",
           "#FF97FF",
           "#FECB52"
          ],
          "font": {
           "color": "#f2f5fa"
          },
          "geo": {
           "bgcolor": "rgb(17,17,17)",
           "lakecolor": "rgb(17,17,17)",
           "landcolor": "rgb(17,17,17)",
           "showlakes": true,
           "showland": true,
           "subunitcolor": "#506784"
          },
          "hoverlabel": {
           "align": "left"
          },
          "hovermode": "closest",
          "mapbox": {
           "style": "dark"
          },
          "paper_bgcolor": "rgb(17,17,17)",
          "plot_bgcolor": "rgb(17,17,17)",
          "polar": {
           "angularaxis": {
            "gridcolor": "#506784",
            "linecolor": "#506784",
            "ticks": ""
           },
           "bgcolor": "rgb(17,17,17)",
           "radialaxis": {
            "gridcolor": "#506784",
            "linecolor": "#506784",
            "ticks": ""
           }
          },
          "scene": {
           "xaxis": {
            "backgroundcolor": "rgb(17,17,17)",
            "gridcolor": "#506784",
            "gridwidth": 2,
            "linecolor": "#506784",
            "showbackground": true,
            "ticks": "",
            "zerolinecolor": "#C8D4E3"
           },
           "yaxis": {
            "backgroundcolor": "rgb(17,17,17)",
            "gridcolor": "#506784",
            "gridwidth": 2,
            "linecolor": "#506784",
            "showbackground": true,
            "ticks": "",
            "zerolinecolor": "#C8D4E3"
           },
           "zaxis": {
            "backgroundcolor": "rgb(17,17,17)",
            "gridcolor": "#506784",
            "gridwidth": 2,
            "linecolor": "#506784",
            "showbackground": true,
            "ticks": "",
            "zerolinecolor": "#C8D4E3"
           }
          },
          "shapedefaults": {
           "line": {
            "color": "#f2f5fa"
           }
          },
          "sliderdefaults": {
           "bgcolor": "#C8D4E3",
           "bordercolor": "rgb(17,17,17)",
           "borderwidth": 1,
           "tickwidth": 0
          },
          "ternary": {
           "aaxis": {
            "gridcolor": "#506784",
            "linecolor": "#506784",
            "ticks": ""
           },
           "baxis": {
            "gridcolor": "#506784",
            "linecolor": "#506784",
            "ticks": ""
           },
           "bgcolor": "rgb(17,17,17)",
           "caxis": {
            "gridcolor": "#506784",
            "linecolor": "#506784",
            "ticks": ""
           }
          },
          "title": {
           "x": 0.05
          },
          "updatemenudefaults": {
           "bgcolor": "#506784",
           "borderwidth": 0
          },
          "xaxis": {
           "automargin": true,
           "gridcolor": "#283442",
           "linecolor": "#506784",
           "ticks": "",
           "title": {
            "standoff": 15
           },
           "zerolinecolor": "#283442",
           "zerolinewidth": 2
          },
          "yaxis": {
           "automargin": true,
           "gridcolor": "#283442",
           "linecolor": "#506784",
           "ticks": "",
           "title": {
            "standoff": 15
           },
           "zerolinecolor": "#283442",
           "zerolinewidth": 2
          }
         }
        },
        "xaxis": {
         "anchor": "y",
         "domain": [
          0,
          1
         ],
         "title": {
          "text": "index"
         }
        },
        "yaxis": {
         "anchor": "x",
         "domain": [
          0,
          1
         ],
         "title": {
          "text": "value"
         }
        }
       }
      }
     },
     "metadata": {},
     "output_type": "display_data"
    }
   ],
   "source": [
    "fig = px.scatter(df1, x=df1.index, y=df1.columns, template='plotly_dark')\n",
    "fig.show()"
   ]
  },
  {
   "cell_type": "code",
   "execution_count": 16,
   "metadata": {},
   "outputs": [
    {
     "data": {
      "text/html": [
       "<div>\n",
       "<style scoped>\n",
       "    .dataframe tbody tr th:only-of-type {\n",
       "        vertical-align: middle;\n",
       "    }\n",
       "\n",
       "    .dataframe tbody tr th {\n",
       "        vertical-align: top;\n",
       "    }\n",
       "\n",
       "    .dataframe thead th {\n",
       "        text-align: right;\n",
       "    }\n",
       "</style>\n",
       "<table border=\"1\" class=\"dataframe\">\n",
       "  <thead>\n",
       "    <tr style=\"text-align: right;\">\n",
       "      <th></th>\n",
       "      <th>1</th>\n",
       "      <th>2</th>\n",
       "      <th>3</th>\n",
       "      <th>4</th>\n",
       "      <th>5</th>\n",
       "      <th>6</th>\n",
       "      <th>7</th>\n",
       "      <th>8</th>\n",
       "      <th>9</th>\n",
       "      <th>10</th>\n",
       "      <th>...</th>\n",
       "      <th>15</th>\n",
       "      <th>16</th>\n",
       "      <th>17</th>\n",
       "      <th>18</th>\n",
       "      <th>19</th>\n",
       "      <th>20</th>\n",
       "      <th>21</th>\n",
       "      <th>22</th>\n",
       "      <th>23</th>\n",
       "      <th>24</th>\n",
       "    </tr>\n",
       "  </thead>\n",
       "  <tbody>\n",
       "    <tr>\n",
       "      <th>Día 1</th>\n",
       "      <td>-46</td>\n",
       "      <td>-38</td>\n",
       "      <td>-38</td>\n",
       "      <td>-42</td>\n",
       "      <td>-45</td>\n",
       "      <td>-40</td>\n",
       "      <td>-38</td>\n",
       "      <td>-35</td>\n",
       "      <td>-38</td>\n",
       "      <td>-30</td>\n",
       "      <td>...</td>\n",
       "      <td>-22</td>\n",
       "      <td>-23</td>\n",
       "      <td>-21</td>\n",
       "      <td>-23</td>\n",
       "      <td>-24</td>\n",
       "      <td>-28</td>\n",
       "      <td>-25</td>\n",
       "      <td>-27</td>\n",
       "      <td>-28</td>\n",
       "      <td>-28</td>\n",
       "    </tr>\n",
       "    <tr>\n",
       "      <th>Día 2</th>\n",
       "      <td>-24</td>\n",
       "      <td>-23</td>\n",
       "      <td>-25</td>\n",
       "      <td>-24</td>\n",
       "      <td>-26</td>\n",
       "      <td>-29</td>\n",
       "      <td>-22</td>\n",
       "      <td>-20</td>\n",
       "      <td>-21</td>\n",
       "      <td>-21</td>\n",
       "      <td>...</td>\n",
       "      <td>-16</td>\n",
       "      <td>-16</td>\n",
       "      <td>-18</td>\n",
       "      <td>-19</td>\n",
       "      <td>-12</td>\n",
       "      <td>-19</td>\n",
       "      <td>-19</td>\n",
       "      <td>-17</td>\n",
       "      <td>-15</td>\n",
       "      <td>-14</td>\n",
       "    </tr>\n",
       "    <tr>\n",
       "      <th>Día 3</th>\n",
       "      <td>-17</td>\n",
       "      <td>-21</td>\n",
       "      <td>-21</td>\n",
       "      <td>-20</td>\n",
       "      <td>-23</td>\n",
       "      <td>-20</td>\n",
       "      <td>-23</td>\n",
       "      <td>-21</td>\n",
       "      <td>-19</td>\n",
       "      <td>-22</td>\n",
       "      <td>...</td>\n",
       "      <td>-19</td>\n",
       "      <td>-16</td>\n",
       "      <td>-18</td>\n",
       "      <td>-20</td>\n",
       "      <td>-17</td>\n",
       "      <td>-18</td>\n",
       "      <td>-15</td>\n",
       "      <td>-12</td>\n",
       "      <td>-11</td>\n",
       "      <td>-11</td>\n",
       "    </tr>\n",
       "    <tr>\n",
       "      <th>Día 4</th>\n",
       "      <td>-10</td>\n",
       "      <td>-11</td>\n",
       "      <td>-14</td>\n",
       "      <td>-15</td>\n",
       "      <td>-16</td>\n",
       "      <td>-15</td>\n",
       "      <td>-14</td>\n",
       "      <td>-18</td>\n",
       "      <td>-20</td>\n",
       "      <td>-22</td>\n",
       "      <td>...</td>\n",
       "      <td>-19</td>\n",
       "      <td>-16</td>\n",
       "      <td>-14</td>\n",
       "      <td>-13</td>\n",
       "      <td>-16</td>\n",
       "      <td>-15</td>\n",
       "      <td>-17</td>\n",
       "      <td>-15</td>\n",
       "      <td>-17</td>\n",
       "      <td>-10</td>\n",
       "    </tr>\n",
       "    <tr>\n",
       "      <th>Día 5</th>\n",
       "      <td>-9</td>\n",
       "      <td>-18</td>\n",
       "      <td>-28</td>\n",
       "      <td>-32</td>\n",
       "      <td>-28</td>\n",
       "      <td>-23</td>\n",
       "      <td>-23</td>\n",
       "      <td>-34</td>\n",
       "      <td>-32</td>\n",
       "      <td>-34</td>\n",
       "      <td>...</td>\n",
       "      <td>-24</td>\n",
       "      <td>-21</td>\n",
       "      <td>-23</td>\n",
       "      <td>-30</td>\n",
       "      <td>-29</td>\n",
       "      <td>-28</td>\n",
       "      <td>-26</td>\n",
       "      <td>-29</td>\n",
       "      <td>-26</td>\n",
       "      <td>-19</td>\n",
       "    </tr>\n",
       "  </tbody>\n",
       "</table>\n",
       "<p>5 rows × 24 columns</p>\n",
       "</div>"
      ],
      "text/plain": [
       "        1   2   3   4   5   6   7   8   9  10  ...  15  16  17  18  19  20  \\\n",
       "Día 1 -46 -38 -38 -42 -45 -40 -38 -35 -38 -30  ... -22 -23 -21 -23 -24 -28   \n",
       "Día 2 -24 -23 -25 -24 -26 -29 -22 -20 -21 -21  ... -16 -16 -18 -19 -12 -19   \n",
       "Día 3 -17 -21 -21 -20 -23 -20 -23 -21 -19 -22  ... -19 -16 -18 -20 -17 -18   \n",
       "Día 4 -10 -11 -14 -15 -16 -15 -14 -18 -20 -22  ... -19 -16 -14 -13 -16 -15   \n",
       "Día 5  -9 -18 -28 -32 -28 -23 -23 -34 -32 -34  ... -24 -21 -23 -30 -29 -28   \n",
       "\n",
       "       21  22  23  24  \n",
       "Día 1 -25 -27 -28 -28  \n",
       "Día 2 -19 -17 -15 -14  \n",
       "Día 3 -15 -12 -11 -11  \n",
       "Día 4 -17 -15 -17 -10  \n",
       "Día 5 -26 -29 -26 -19  \n",
       "\n",
       "[5 rows x 24 columns]"
      ]
     },
     "execution_count": 16,
     "metadata": {},
     "output_type": "execute_result"
    }
   ],
   "source": [
    "column_names = [f'{i}' for i in range(1,25)]\n",
    "day_count = df1.shape[0] #numero de filas (dias)\n",
    "row_names = [f'Día {i}' for i in range(1,day_count+1)]\n",
    "# asigno nombres a las columnas y filas\n",
    "df_copy = df1.copy()\n",
    "df_copy.columns = column_names\n",
    "df_copy.index = row_names\n",
    "df_copy.head()"
   ]
  },
  {
   "cell_type": "code",
   "execution_count": 21,
   "metadata": {},
   "outputs": [
    {
     "data": {
      "text/plain": [
       "1    -46\n",
       "2    -38\n",
       "3    -38\n",
       "4    -42\n",
       "5    -45\n",
       "6    -40\n",
       "7    -38\n",
       "8    -35\n",
       "9    -38\n",
       "10   -30\n",
       "11   -24\n",
       "12   -22\n",
       "13   -22\n",
       "14   -24\n",
       "15   -22\n",
       "16   -23\n",
       "17   -21\n",
       "18   -23\n",
       "19   -24\n",
       "20   -28\n",
       "21   -25\n",
       "22   -27\n",
       "23   -28\n",
       "24   -28\n",
       "Name: Día 1, dtype: int64"
      ]
     },
     "execution_count": 21,
     "metadata": {},
     "output_type": "execute_result"
    }
   ],
   "source": [
    "df_copy.iloc[0]"
   ]
  },
  {
   "cell_type": "code",
   "execution_count": 25,
   "metadata": {},
   "outputs": [
    {
     "data": {
      "text/html": [
       "<div>\n",
       "<style scoped>\n",
       "    .dataframe tbody tr th:only-of-type {\n",
       "        vertical-align: middle;\n",
       "    }\n",
       "\n",
       "    .dataframe tbody tr th {\n",
       "        vertical-align: top;\n",
       "    }\n",
       "\n",
       "    .dataframe thead th {\n",
       "        text-align: right;\n",
       "    }\n",
       "</style>\n",
       "<table border=\"1\" class=\"dataframe\">\n",
       "  <thead>\n",
       "    <tr style=\"text-align: right;\">\n",
       "      <th></th>\n",
       "      <th>Día 1</th>\n",
       "      <th>Día 2</th>\n",
       "      <th>Día 3</th>\n",
       "      <th>Día 4</th>\n",
       "      <th>Día 5</th>\n",
       "      <th>Día 6</th>\n",
       "      <th>Día 7</th>\n",
       "      <th>Día 8</th>\n",
       "      <th>Día 9</th>\n",
       "      <th>Día 10</th>\n",
       "      <th>...</th>\n",
       "      <th>Día 22</th>\n",
       "      <th>Día 23</th>\n",
       "      <th>Día 24</th>\n",
       "      <th>Día 25</th>\n",
       "      <th>Día 26</th>\n",
       "      <th>Día 27</th>\n",
       "      <th>Día 28</th>\n",
       "      <th>Día 29</th>\n",
       "      <th>Día 30</th>\n",
       "      <th>Día 31</th>\n",
       "    </tr>\n",
       "  </thead>\n",
       "  <tbody>\n",
       "    <tr>\n",
       "      <th>1</th>\n",
       "      <td>-46</td>\n",
       "      <td>-24</td>\n",
       "      <td>-17</td>\n",
       "      <td>-10</td>\n",
       "      <td>-9</td>\n",
       "      <td>-19</td>\n",
       "      <td>-23</td>\n",
       "      <td>-13</td>\n",
       "      <td>-7</td>\n",
       "      <td>3</td>\n",
       "      <td>...</td>\n",
       "      <td>1</td>\n",
       "      <td>-97</td>\n",
       "      <td>-38</td>\n",
       "      <td>-36</td>\n",
       "      <td>-22</td>\n",
       "      <td>-27</td>\n",
       "      <td>-31</td>\n",
       "      <td>-29</td>\n",
       "      <td>-24</td>\n",
       "      <td>-18</td>\n",
       "    </tr>\n",
       "    <tr>\n",
       "      <th>2</th>\n",
       "      <td>-38</td>\n",
       "      <td>-23</td>\n",
       "      <td>-21</td>\n",
       "      <td>-11</td>\n",
       "      <td>-18</td>\n",
       "      <td>-20</td>\n",
       "      <td>-22</td>\n",
       "      <td>-12</td>\n",
       "      <td>-9</td>\n",
       "      <td>-1</td>\n",
       "      <td>...</td>\n",
       "      <td>7</td>\n",
       "      <td>-92</td>\n",
       "      <td>-38</td>\n",
       "      <td>-32</td>\n",
       "      <td>-20</td>\n",
       "      <td>-24</td>\n",
       "      <td>-41</td>\n",
       "      <td>-23</td>\n",
       "      <td>-22</td>\n",
       "      <td>-16</td>\n",
       "    </tr>\n",
       "    <tr>\n",
       "      <th>3</th>\n",
       "      <td>-38</td>\n",
       "      <td>-25</td>\n",
       "      <td>-21</td>\n",
       "      <td>-14</td>\n",
       "      <td>-28</td>\n",
       "      <td>-17</td>\n",
       "      <td>-23</td>\n",
       "      <td>-11</td>\n",
       "      <td>-10</td>\n",
       "      <td>-4</td>\n",
       "      <td>...</td>\n",
       "      <td>16</td>\n",
       "      <td>-96</td>\n",
       "      <td>-37</td>\n",
       "      <td>-33</td>\n",
       "      <td>-17</td>\n",
       "      <td>-17</td>\n",
       "      <td>-38</td>\n",
       "      <td>-23</td>\n",
       "      <td>-21</td>\n",
       "      <td>-22</td>\n",
       "    </tr>\n",
       "    <tr>\n",
       "      <th>4</th>\n",
       "      <td>-42</td>\n",
       "      <td>-24</td>\n",
       "      <td>-20</td>\n",
       "      <td>-15</td>\n",
       "      <td>-32</td>\n",
       "      <td>-15</td>\n",
       "      <td>-25</td>\n",
       "      <td>-10</td>\n",
       "      <td>-11</td>\n",
       "      <td>-6</td>\n",
       "      <td>...</td>\n",
       "      <td>12</td>\n",
       "      <td>-97</td>\n",
       "      <td>-39</td>\n",
       "      <td>-36</td>\n",
       "      <td>-24</td>\n",
       "      <td>-12</td>\n",
       "      <td>-37</td>\n",
       "      <td>-23</td>\n",
       "      <td>-19</td>\n",
       "      <td>-19</td>\n",
       "    </tr>\n",
       "    <tr>\n",
       "      <th>5</th>\n",
       "      <td>-45</td>\n",
       "      <td>-26</td>\n",
       "      <td>-23</td>\n",
       "      <td>-16</td>\n",
       "      <td>-28</td>\n",
       "      <td>-14</td>\n",
       "      <td>-30</td>\n",
       "      <td>-9</td>\n",
       "      <td>-8</td>\n",
       "      <td>-4</td>\n",
       "      <td>...</td>\n",
       "      <td>9</td>\n",
       "      <td>-79</td>\n",
       "      <td>-43</td>\n",
       "      <td>-41</td>\n",
       "      <td>-30</td>\n",
       "      <td>-13</td>\n",
       "      <td>-40</td>\n",
       "      <td>-27</td>\n",
       "      <td>-22</td>\n",
       "      <td>-18</td>\n",
       "    </tr>\n",
       "    <tr>\n",
       "      <th>6</th>\n",
       "      <td>-40</td>\n",
       "      <td>-29</td>\n",
       "      <td>-20</td>\n",
       "      <td>-15</td>\n",
       "      <td>-23</td>\n",
       "      <td>-18</td>\n",
       "      <td>-28</td>\n",
       "      <td>-10</td>\n",
       "      <td>-6</td>\n",
       "      <td>1</td>\n",
       "      <td>...</td>\n",
       "      <td>11</td>\n",
       "      <td>-65</td>\n",
       "      <td>-47</td>\n",
       "      <td>-39</td>\n",
       "      <td>-28</td>\n",
       "      <td>-12</td>\n",
       "      <td>-35</td>\n",
       "      <td>-28</td>\n",
       "      <td>-24</td>\n",
       "      <td>-18</td>\n",
       "    </tr>\n",
       "    <tr>\n",
       "      <th>7</th>\n",
       "      <td>-38</td>\n",
       "      <td>-22</td>\n",
       "      <td>-23</td>\n",
       "      <td>-14</td>\n",
       "      <td>-23</td>\n",
       "      <td>-17</td>\n",
       "      <td>-25</td>\n",
       "      <td>-12</td>\n",
       "      <td>-4</td>\n",
       "      <td>3</td>\n",
       "      <td>...</td>\n",
       "      <td>6</td>\n",
       "      <td>-66</td>\n",
       "      <td>-44</td>\n",
       "      <td>-39</td>\n",
       "      <td>-22</td>\n",
       "      <td>-1</td>\n",
       "      <td>-36</td>\n",
       "      <td>-29</td>\n",
       "      <td>-25</td>\n",
       "      <td>-20</td>\n",
       "    </tr>\n",
       "    <tr>\n",
       "      <th>8</th>\n",
       "      <td>-35</td>\n",
       "      <td>-20</td>\n",
       "      <td>-21</td>\n",
       "      <td>-18</td>\n",
       "      <td>-34</td>\n",
       "      <td>-14</td>\n",
       "      <td>-20</td>\n",
       "      <td>-11</td>\n",
       "      <td>-3</td>\n",
       "      <td>-1</td>\n",
       "      <td>...</td>\n",
       "      <td>1</td>\n",
       "      <td>-62</td>\n",
       "      <td>-43</td>\n",
       "      <td>-39</td>\n",
       "      <td>-17</td>\n",
       "      <td>5</td>\n",
       "      <td>-30</td>\n",
       "      <td>-22</td>\n",
       "      <td>-18</td>\n",
       "      <td>-19</td>\n",
       "    </tr>\n",
       "    <tr>\n",
       "      <th>9</th>\n",
       "      <td>-38</td>\n",
       "      <td>-21</td>\n",
       "      <td>-19</td>\n",
       "      <td>-20</td>\n",
       "      <td>-32</td>\n",
       "      <td>-11</td>\n",
       "      <td>-20</td>\n",
       "      <td>-9</td>\n",
       "      <td>-5</td>\n",
       "      <td>-1</td>\n",
       "      <td>...</td>\n",
       "      <td>8</td>\n",
       "      <td>-63</td>\n",
       "      <td>-46</td>\n",
       "      <td>-39</td>\n",
       "      <td>-16</td>\n",
       "      <td>8</td>\n",
       "      <td>-28</td>\n",
       "      <td>-28</td>\n",
       "      <td>-17</td>\n",
       "      <td>-18</td>\n",
       "    </tr>\n",
       "    <tr>\n",
       "      <th>10</th>\n",
       "      <td>-30</td>\n",
       "      <td>-21</td>\n",
       "      <td>-22</td>\n",
       "      <td>-22</td>\n",
       "      <td>-34</td>\n",
       "      <td>-17</td>\n",
       "      <td>-24</td>\n",
       "      <td>-12</td>\n",
       "      <td>-7</td>\n",
       "      <td>0</td>\n",
       "      <td>...</td>\n",
       "      <td>4</td>\n",
       "      <td>-69</td>\n",
       "      <td>-52</td>\n",
       "      <td>-40</td>\n",
       "      <td>-16</td>\n",
       "      <td>7</td>\n",
       "      <td>-36</td>\n",
       "      <td>-30</td>\n",
       "      <td>-18</td>\n",
       "      <td>-17</td>\n",
       "    </tr>\n",
       "  </tbody>\n",
       "</table>\n",
       "<p>10 rows × 31 columns</p>\n",
       "</div>"
      ],
      "text/plain": [
       "    Día 1  Día 2  Día 3  Día 4  Día 5  Día 6  Día 7  Día 8  Día 9  Día 10  \\\n",
       "1     -46    -24    -17    -10     -9    -19    -23    -13     -7       3   \n",
       "2     -38    -23    -21    -11    -18    -20    -22    -12     -9      -1   \n",
       "3     -38    -25    -21    -14    -28    -17    -23    -11    -10      -4   \n",
       "4     -42    -24    -20    -15    -32    -15    -25    -10    -11      -6   \n",
       "5     -45    -26    -23    -16    -28    -14    -30     -9     -8      -4   \n",
       "6     -40    -29    -20    -15    -23    -18    -28    -10     -6       1   \n",
       "7     -38    -22    -23    -14    -23    -17    -25    -12     -4       3   \n",
       "8     -35    -20    -21    -18    -34    -14    -20    -11     -3      -1   \n",
       "9     -38    -21    -19    -20    -32    -11    -20     -9     -5      -1   \n",
       "10    -30    -21    -22    -22    -34    -17    -24    -12     -7       0   \n",
       "\n",
       "    ...  Día 22  Día 23  Día 24  Día 25  Día 26  Día 27  Día 28  Día 29  \\\n",
       "1   ...       1     -97     -38     -36     -22     -27     -31     -29   \n",
       "2   ...       7     -92     -38     -32     -20     -24     -41     -23   \n",
       "3   ...      16     -96     -37     -33     -17     -17     -38     -23   \n",
       "4   ...      12     -97     -39     -36     -24     -12     -37     -23   \n",
       "5   ...       9     -79     -43     -41     -30     -13     -40     -27   \n",
       "6   ...      11     -65     -47     -39     -28     -12     -35     -28   \n",
       "7   ...       6     -66     -44     -39     -22      -1     -36     -29   \n",
       "8   ...       1     -62     -43     -39     -17       5     -30     -22   \n",
       "9   ...       8     -63     -46     -39     -16       8     -28     -28   \n",
       "10  ...       4     -69     -52     -40     -16       7     -36     -30   \n",
       "\n",
       "    Día 30  Día 31  \n",
       "1      -24     -18  \n",
       "2      -22     -16  \n",
       "3      -21     -22  \n",
       "4      -19     -19  \n",
       "5      -22     -18  \n",
       "6      -24     -18  \n",
       "7      -25     -20  \n",
       "8      -18     -19  \n",
       "9      -17     -18  \n",
       "10     -18     -17  \n",
       "\n",
       "[10 rows x 31 columns]"
      ]
     },
     "execution_count": 25,
     "metadata": {},
     "output_type": "execute_result"
    }
   ],
   "source": [
    "# extraer cada fila de la tabla\n",
    "df_2 = pd.DataFrame()\n",
    "for i in range(len(df_copy)):\n",
    "    row = df_copy.iloc[i]\n",
    "    row.columns = [f'Día {i+1}']\n",
    "    df_2 = pd.concat([df_2, row], axis=1)\n",
    "df_2.head(10)"
   ]
  },
  {
   "cell_type": "code",
   "execution_count": 27,
   "metadata": {},
   "outputs": [
    {
     "ename": "ValueError",
     "evalue": "Value of 'y' is not the name of a column in 'data_frame'. Expected one of ['Día 1', 'Día 2', 'Día 3', 'Día 4', 'Día 5', 'Día 6', 'Día 7', 'Día 8', 'Día 9', 'Día 10', 'Día 11', 'Día 12', 'Día 13', 'Día 14', 'Día 15', 'Día 16', 'Día 17', 'Día 18', 'Día 19', 'Día 20', 'Día 21', 'Día 22', 'Día 23', 'Día 24', 'Día 25', 'Día 26', 'Día 27', 'Día 28', 'Día 29', 'Día 30', 'Día 31'] but received: 31",
     "output_type": "error",
     "traceback": [
      "\u001b[1;31m---------------------------------------------------------------------------\u001b[0m",
      "\u001b[1;31mValueError\u001b[0m                                Traceback (most recent call last)",
      "Cell \u001b[1;32mIn[27], line 1\u001b[0m\n\u001b[1;32m----> 1\u001b[0m fig \u001b[38;5;241m=\u001b[39m px\u001b[38;5;241m.\u001b[39mline(df_2, x\u001b[38;5;241m=\u001b[39mdf_2\u001b[38;5;241m.\u001b[39miloc[\u001b[38;5;241m0\u001b[39m], y\u001b[38;5;241m=\u001b[39mdf_2\u001b[38;5;241m.\u001b[39miloc[\u001b[38;5;241m0\u001b[39m]\u001b[38;5;241m.\u001b[39msize)\n",
      "File \u001b[1;32md:\\Descargas\\Anaconda\\Lib\\site-packages\\plotly\\express\\_chart_types.py:264\u001b[0m, in \u001b[0;36mline\u001b[1;34m(data_frame, x, y, line_group, color, line_dash, symbol, hover_name, hover_data, custom_data, text, facet_row, facet_col, facet_col_wrap, facet_row_spacing, facet_col_spacing, error_x, error_x_minus, error_y, error_y_minus, animation_frame, animation_group, category_orders, labels, orientation, color_discrete_sequence, color_discrete_map, line_dash_sequence, line_dash_map, symbol_sequence, symbol_map, markers, log_x, log_y, range_x, range_y, line_shape, render_mode, title, template, width, height)\u001b[0m\n\u001b[0;32m    216\u001b[0m \u001b[38;5;28;01mdef\u001b[39;00m \u001b[38;5;21mline\u001b[39m(\n\u001b[0;32m    217\u001b[0m     data_frame\u001b[38;5;241m=\u001b[39m\u001b[38;5;28;01mNone\u001b[39;00m,\n\u001b[0;32m    218\u001b[0m     x\u001b[38;5;241m=\u001b[39m\u001b[38;5;28;01mNone\u001b[39;00m,\n\u001b[1;32m   (...)\u001b[0m\n\u001b[0;32m    258\u001b[0m     height\u001b[38;5;241m=\u001b[39m\u001b[38;5;28;01mNone\u001b[39;00m,\n\u001b[0;32m    259\u001b[0m ) \u001b[38;5;241m-\u001b[39m\u001b[38;5;241m>\u001b[39m go\u001b[38;5;241m.\u001b[39mFigure:\n\u001b[0;32m    260\u001b[0m \u001b[38;5;250m    \u001b[39m\u001b[38;5;124;03m\"\"\"\u001b[39;00m\n\u001b[0;32m    261\u001b[0m \u001b[38;5;124;03m    In a 2D line plot, each row of `data_frame` is represented as vertex of\u001b[39;00m\n\u001b[0;32m    262\u001b[0m \u001b[38;5;124;03m    a polyline mark in 2D space.\u001b[39;00m\n\u001b[0;32m    263\u001b[0m \u001b[38;5;124;03m    \"\"\"\u001b[39;00m\n\u001b[1;32m--> 264\u001b[0m     \u001b[38;5;28;01mreturn\u001b[39;00m make_figure(args\u001b[38;5;241m=\u001b[39m\u001b[38;5;28mlocals\u001b[39m(), constructor\u001b[38;5;241m=\u001b[39mgo\u001b[38;5;241m.\u001b[39mScatter)\n",
      "File \u001b[1;32md:\\Descargas\\Anaconda\\Lib\\site-packages\\plotly\\express\\_core.py:1990\u001b[0m, in \u001b[0;36mmake_figure\u001b[1;34m(args, constructor, trace_patch, layout_patch)\u001b[0m\n\u001b[0;32m   1987\u001b[0m layout_patch \u001b[38;5;241m=\u001b[39m layout_patch \u001b[38;5;129;01mor\u001b[39;00m {}\n\u001b[0;32m   1988\u001b[0m apply_default_cascade(args)\n\u001b[1;32m-> 1990\u001b[0m args \u001b[38;5;241m=\u001b[39m build_dataframe(args, constructor)\n\u001b[0;32m   1991\u001b[0m \u001b[38;5;28;01mif\u001b[39;00m constructor \u001b[38;5;129;01min\u001b[39;00m [go\u001b[38;5;241m.\u001b[39mTreemap, go\u001b[38;5;241m.\u001b[39mSunburst, go\u001b[38;5;241m.\u001b[39mIcicle] \u001b[38;5;129;01mand\u001b[39;00m args[\u001b[38;5;124m\"\u001b[39m\u001b[38;5;124mpath\u001b[39m\u001b[38;5;124m\"\u001b[39m] \u001b[38;5;129;01mis\u001b[39;00m \u001b[38;5;129;01mnot\u001b[39;00m \u001b[38;5;28;01mNone\u001b[39;00m:\n\u001b[0;32m   1992\u001b[0m     args \u001b[38;5;241m=\u001b[39m process_dataframe_hierarchy(args)\n",
      "File \u001b[1;32md:\\Descargas\\Anaconda\\Lib\\site-packages\\plotly\\express\\_core.py:1405\u001b[0m, in \u001b[0;36mbuild_dataframe\u001b[1;34m(args, constructor)\u001b[0m\n\u001b[0;32m   1402\u001b[0m     args[\u001b[38;5;124m\"\u001b[39m\u001b[38;5;124mcolor\u001b[39m\u001b[38;5;124m\"\u001b[39m] \u001b[38;5;241m=\u001b[39m \u001b[38;5;28;01mNone\u001b[39;00m\n\u001b[0;32m   1403\u001b[0m \u001b[38;5;66;03m# now that things have been prepped, we do the systematic rewriting of `args`\u001b[39;00m\n\u001b[1;32m-> 1405\u001b[0m df_output, wide_id_vars \u001b[38;5;241m=\u001b[39m process_args_into_dataframe(\n\u001b[0;32m   1406\u001b[0m     args, wide_mode, var_name, value_name\n\u001b[0;32m   1407\u001b[0m )\n\u001b[0;32m   1409\u001b[0m \u001b[38;5;66;03m# now that `df_output` exists and `args` contains only references, we complete\u001b[39;00m\n\u001b[0;32m   1410\u001b[0m \u001b[38;5;66;03m# the special-case and wide-mode handling by further rewriting args and/or mutating\u001b[39;00m\n\u001b[0;32m   1411\u001b[0m \u001b[38;5;66;03m# df_output\u001b[39;00m\n\u001b[0;32m   1413\u001b[0m count_name \u001b[38;5;241m=\u001b[39m _escape_col_name(df_output, \u001b[38;5;124m\"\u001b[39m\u001b[38;5;124mcount\u001b[39m\u001b[38;5;124m\"\u001b[39m, [var_name, value_name])\n",
      "File \u001b[1;32md:\\Descargas\\Anaconda\\Lib\\site-packages\\plotly\\express\\_core.py:1207\u001b[0m, in \u001b[0;36mprocess_args_into_dataframe\u001b[1;34m(args, wide_mode, var_name, value_name)\u001b[0m\n\u001b[0;32m   1205\u001b[0m         \u001b[38;5;28;01mif\u001b[39;00m argument \u001b[38;5;241m==\u001b[39m \u001b[38;5;124m\"\u001b[39m\u001b[38;5;124mindex\u001b[39m\u001b[38;5;124m\"\u001b[39m:\n\u001b[0;32m   1206\u001b[0m             err_msg \u001b[38;5;241m+\u001b[39m\u001b[38;5;241m=\u001b[39m \u001b[38;5;124m\"\u001b[39m\u001b[38;5;130;01m\\n\u001b[39;00m\u001b[38;5;124m To use the index, pass it in directly as `df.index`.\u001b[39m\u001b[38;5;124m\"\u001b[39m\n\u001b[1;32m-> 1207\u001b[0m         \u001b[38;5;28;01mraise\u001b[39;00m \u001b[38;5;167;01mValueError\u001b[39;00m(err_msg)\n\u001b[0;32m   1208\u001b[0m \u001b[38;5;28;01melif\u001b[39;00m length \u001b[38;5;129;01mand\u001b[39;00m \u001b[38;5;28mlen\u001b[39m(df_input[argument]) \u001b[38;5;241m!=\u001b[39m length:\n\u001b[0;32m   1209\u001b[0m     \u001b[38;5;28;01mraise\u001b[39;00m \u001b[38;5;167;01mValueError\u001b[39;00m(\n\u001b[0;32m   1210\u001b[0m         \u001b[38;5;124m\"\u001b[39m\u001b[38;5;124mAll arguments should have the same length. \u001b[39m\u001b[38;5;124m\"\u001b[39m\n\u001b[0;32m   1211\u001b[0m         \u001b[38;5;124m\"\u001b[39m\u001b[38;5;124mThe length of column argument `df[\u001b[39m\u001b[38;5;132;01m%s\u001b[39;00m\u001b[38;5;124m]` is \u001b[39m\u001b[38;5;132;01m%d\u001b[39;00m\u001b[38;5;124m, whereas the \u001b[39m\u001b[38;5;124m\"\u001b[39m\n\u001b[1;32m   (...)\u001b[0m\n\u001b[0;32m   1218\u001b[0m         )\n\u001b[0;32m   1219\u001b[0m     )\n",
      "\u001b[1;31mValueError\u001b[0m: Value of 'y' is not the name of a column in 'data_frame'. Expected one of ['Día 1', 'Día 2', 'Día 3', 'Día 4', 'Día 5', 'Día 6', 'Día 7', 'Día 8', 'Día 9', 'Día 10', 'Día 11', 'Día 12', 'Día 13', 'Día 14', 'Día 15', 'Día 16', 'Día 17', 'Día 18', 'Día 19', 'Día 20', 'Día 21', 'Día 22', 'Día 23', 'Día 24', 'Día 25', 'Día 26', 'Día 27', 'Día 28', 'Día 29', 'Día 30', 'Día 31'] but received: 31"
     ]
    }
   ],
   "source": [
    "# convertir todas las columnas en una sola columna, crear una columna al lado que contiene que dia es \n"
   ]
  },
  {
   "cell_type": "code",
   "execution_count": null,
   "metadata": {},
   "outputs": [],
   "source": []
  }
 ],
 "metadata": {
  "kernelspec": {
   "display_name": "base",
   "language": "python",
   "name": "python3"
  },
  "language_info": {
   "codemirror_mode": {
    "name": "ipython",
    "version": 3
   },
   "file_extension": ".py",
   "mimetype": "text/x-python",
   "name": "python",
   "nbconvert_exporter": "python",
   "pygments_lexer": "ipython3",
   "version": "3.11.5"
  }
 },
 "nbformat": 4,
 "nbformat_minor": 2
}
