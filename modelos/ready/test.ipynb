{
 "cells": [
  {
   "cell_type": "code",
   "execution_count": 4,
   "metadata": {},
   "outputs": [
    {
     "name": "stdout",
     "output_type": "stream",
     "text": [
      "[[-46, -38, -38, -42, -45, -40, -38, -35, -38, -30, -24, -22, -22, -24, -22, -23, -21, -23, -24, -28, -25, -27, -28, -28], [-24, -23, -25, -24, -26, -29, -22, -20, -21, -21, -20, -17, -16, -17, -16, -16, -18, -19, -12, -19, -19, -17, -15, -14], [-17, -21, -21, -20, -23, -20, -23, -21, -19, -22, -19, -11, -10, -16, -19, -16, -18, -20, -17, -18, -15, -12, -11, -11], [-10, -11, -14, -15, -16, -15, -14, -18, -20, -22, -18, -12, -14, -24, -19, -16, -14, -13, -16, -15, -17, -15, -17, -10], [-9, -18, -28, -32, -28, -23, -23, -34, -32, -34, -33, -26, -22, -21, -24, -21, -23, -30, -29, -28, -26, -29, -26, -19], [-19, -20, -17, -15, -14, -18, -17, -14, -11, -17, -16, -11, -10, -25, -37, -33, -34, -35, -33, -30, -32, -36, -29, -25], [-23, -22, -23, -25, -30, -28, -25, -20, -20, -24, -22, -21, -21, -19, -19, -23, -24, -23, -24, -23, -23, -18, -15, -14], [-13, -12, -11, -10, -9, -10, -12, -11, -9, -12, -17, -18, -19, -16, -18, -16, -18, -18, -16, -14, -12, -11, -10, -9], [-7, -9, -10, -11, -8, -6, -4, -3, -5, -7, -8, -7, -7, -9, -7, -8, -5, -3, -1, 2, 3, 4, 4, 3], [3, -1, -4, -6, -4, 1, 3, -1, -1, 0, -3, -2, -5, -4, -1, 1, 5, 10, 3, 1, 0, -5, -8, -6], [-9, -10, -8, -1, 4, 8, 10, 12, 12, 9, 7, -1, -11, -15, -7, -4, -11, -20, -34, -65, -73, -81, -81, -76], [-72, -65, -66, -65, -58, -58, -52, -51, -48, -47, -47, -45, -44, -42, -39, -38, -38, -34, -31, -33, -33, -29, -26, -27], [-31, -28, -24, -22, -24, -23, -23, -26, -22, -18, -20, -22, -26, -26, -25, -25, -21, -21, -24, -24, -23, -21, -21, -25], [-22, -19, -17, -17, -19, -17, -16, -13, -12, -11, -13, -17, -19, -19, -18, -17, -13, -11, -16, -16, -20, -17, -14, -13], [-17, -20, -19, -15, -14, -9, -8, -9, -9, -8, -5, -6, -9, -10, -10, -11, -11, -13, -11, -10, -12, -10, -14, -19], [-20, -16, -16, -15, -11, -9, -8, -6, -8, -6, -8, -10, -16, -12, -13, -11, -14, -15, -13, -11, -11, -9, -9, -9], [-10, -8, -4, -2, -5, -7, -6, -8, -8, -5, -4, 0, 1, 0, -1, -2, -2, -2, -1, -5, -8, -6, -5, -8], [-9, -8, -9, -7, -6, -2, 0, 0, 0, 2, 4, 5, 8, 7, 5, 6, 1, -3, -3, -2, -2, -2, -1, 1], [1, 2, 2, 0, -1, 6, 10, 14, 15, 12, 12, 12, 10, 6, 6, 7, 5, 7, 10, 11, 9, 3, -2, -4], [-3, 1, 5, 6, 1, -3, -5, -1, 4, -2, -6, -5, -9, -11, -8, -2, -1, -1, -5, -5, 0, 2, -5, -6], [-3, -1, 1, -1, -4, -5, -6, -4, -1, 0, 1, 4, 4, 4, 5, 5, 5, 5, 5, 2, 0, 3, 4, 2], [1, 7, 16, 12, 9, 11, 6, 1, 8, 4, -3, -3, -4, -5, 1, 0, -1, -6, -19, -46, -50, -68, -86, -92], [-97, -92, -96, -97, -79, -65, -66, -62, -63, -69, -69, -65, -66, -61, -54, -55, -57, -47, -44, -45, -47, -46, -47, -44], [-38, -38, -37, -39, -43, -47, -44, -43, -46, -52, -42, -41, -38, -41, -42, -43, -45, -41, -36, -38, -44, -42, -39, -35], [-36, -32, -33, -36, -41, -39, -39, -39, -39, -40, -40, -34, -31, -29, -26, -23, -21, -19, -16, -18, -16, -15, -18, -21], [-22, -20, -17, -24, -30, -28, -22, -17, -16, -16, -15, -13, -14, -16, -14, -10, -12, -11, -8, -4, -5, -11, -21, -27], [-27, -24, -17, -12, -13, -12, -1, 5, 8, 7, -4, -3, 0, 3, 12, 41, 46, 39, 34, 29, 2, -5, -7, -24], [-31, -41, -38, -37, -40, -35, -36, -30, -28, -36, -37, -33, -32, -42, -38, -30, -25, -21, -18, -11, -7, -11, -23, -27], [-29, -23, -23, -23, -27, -28, -29, -22, -28, -30, -24, -25, -30, -28, -32, -32, -29, -28, -33, -24, -22, -25, -25, -28], [-24, -22, -21, -19, -22, -24, -25, -18, -17, -18, -18, -16, -13, -16, -18, -17, -14, -17, -21, -16, -29, -27, -21, -19], [-18, -16, -22, -19, -18, -18, -20, -19, -18, -17, -12, -6, -7, -6, -8, -6, -4, -6, -8, -11, -12, -14, -15, -14]]\n"
     ]
    },
    {
     "ename": "ValueError",
     "evalue": "31 columns passed, passed data had 24 columns",
     "output_type": "error",
     "traceback": [
      "\u001b[1;31m---------------------------------------------------------------------------\u001b[0m",
      "\u001b[1;31mAssertionError\u001b[0m                            Traceback (most recent call last)",
      "File \u001b[1;32md:\\Descargas\\Anaconda\\Lib\\site-packages\\pandas\\core\\internals\\construction.py:939\u001b[0m, in \u001b[0;36m_finalize_columns_and_data\u001b[1;34m(content, columns, dtype)\u001b[0m\n\u001b[0;32m    938\u001b[0m \u001b[38;5;28;01mtry\u001b[39;00m:\n\u001b[1;32m--> 939\u001b[0m     columns \u001b[38;5;241m=\u001b[39m _validate_or_indexify_columns(contents, columns)\n\u001b[0;32m    940\u001b[0m \u001b[38;5;28;01mexcept\u001b[39;00m \u001b[38;5;167;01mAssertionError\u001b[39;00m \u001b[38;5;28;01mas\u001b[39;00m err:\n\u001b[0;32m    941\u001b[0m     \u001b[38;5;66;03m# GH#26429 do not raise user-facing AssertionError\u001b[39;00m\n",
      "File \u001b[1;32md:\\Descargas\\Anaconda\\Lib\\site-packages\\pandas\\core\\internals\\construction.py:986\u001b[0m, in \u001b[0;36m_validate_or_indexify_columns\u001b[1;34m(content, columns)\u001b[0m\n\u001b[0;32m    984\u001b[0m \u001b[38;5;28;01mif\u001b[39;00m \u001b[38;5;129;01mnot\u001b[39;00m is_mi_list \u001b[38;5;129;01mand\u001b[39;00m \u001b[38;5;28mlen\u001b[39m(columns) \u001b[38;5;241m!=\u001b[39m \u001b[38;5;28mlen\u001b[39m(content):  \u001b[38;5;66;03m# pragma: no cover\u001b[39;00m\n\u001b[0;32m    985\u001b[0m     \u001b[38;5;66;03m# caller's responsibility to check for this...\u001b[39;00m\n\u001b[1;32m--> 986\u001b[0m     \u001b[38;5;28;01mraise\u001b[39;00m \u001b[38;5;167;01mAssertionError\u001b[39;00m(\n\u001b[0;32m    987\u001b[0m         \u001b[38;5;124mf\u001b[39m\u001b[38;5;124m\"\u001b[39m\u001b[38;5;132;01m{\u001b[39;00m\u001b[38;5;28mlen\u001b[39m(columns)\u001b[38;5;132;01m}\u001b[39;00m\u001b[38;5;124m columns passed, passed data had \u001b[39m\u001b[38;5;124m\"\u001b[39m\n\u001b[0;32m    988\u001b[0m         \u001b[38;5;124mf\u001b[39m\u001b[38;5;124m\"\u001b[39m\u001b[38;5;132;01m{\u001b[39;00m\u001b[38;5;28mlen\u001b[39m(content)\u001b[38;5;132;01m}\u001b[39;00m\u001b[38;5;124m columns\u001b[39m\u001b[38;5;124m\"\u001b[39m\n\u001b[0;32m    989\u001b[0m     )\n\u001b[0;32m    990\u001b[0m \u001b[38;5;28;01mif\u001b[39;00m is_mi_list:\n\u001b[0;32m    991\u001b[0m     \u001b[38;5;66;03m# check if nested list column, length of each sub-list should be equal\u001b[39;00m\n",
      "\u001b[1;31mAssertionError\u001b[0m: 31 columns passed, passed data had 24 columns",
      "\nThe above exception was the direct cause of the following exception:\n",
      "\u001b[1;31mValueError\u001b[0m                                Traceback (most recent call last)",
      "Cell \u001b[1;32mIn[4], line 10\u001b[0m\n\u001b[0;32m      8\u001b[0m url_by_month \u001b[38;5;241m=\u001b[39m data\u001b[38;5;241m.\u001b[39mget_data_by_month(YEAR, MONTH)\n\u001b[0;32m      9\u001b[0m url_by_year \u001b[38;5;241m=\u001b[39m data\u001b[38;5;241m.\u001b[39mget_data_by_year(YEAR)\n\u001b[1;32m---> 10\u001b[0m df1 \u001b[38;5;241m=\u001b[39m data\u001b[38;5;241m.\u001b[39mscrapping_data(url_by_month)\n\u001b[0;32m     11\u001b[0m df2 \u001b[38;5;241m=\u001b[39m data\u001b[38;5;241m.\u001b[39mscrapping_data(url_by_year)\n\u001b[0;32m     14\u001b[0m \u001b[38;5;28mprint\u001b[39m(df1\u001b[38;5;241m.\u001b[39mhead())\n",
      "File \u001b[1;32md:\\Proyectos\\geodataStorm\\modelos\\ready\\Data.py:40\u001b[0m, in \u001b[0;36mData.scrapping_data\u001b[1;34m(self, url)\u001b[0m\n\u001b[0;32m     38\u001b[0m all_day_data \u001b[38;5;241m=\u001b[39m [data_values[i:i\u001b[38;5;241m+\u001b[39mday_length] \u001b[38;5;28;01mfor\u001b[39;00m i \u001b[38;5;129;01min\u001b[39;00m \u001b[38;5;28mrange\u001b[39m(\u001b[38;5;241m26\u001b[39m, \u001b[38;5;28mlen\u001b[39m(data_values), day_length\u001b[38;5;241m+\u001b[39m\u001b[38;5;241m1\u001b[39m)]\n\u001b[0;32m     39\u001b[0m \u001b[38;5;28mprint\u001b[39m(all_day_data)\n\u001b[1;32m---> 40\u001b[0m dataframe \u001b[38;5;241m=\u001b[39m pd\u001b[38;5;241m.\u001b[39mDataFrame(all_day_data, index\u001b[38;5;241m=\u001b[39m\u001b[38;5;28mrange\u001b[39m(\u001b[38;5;241m1\u001b[39m,\u001b[38;5;28mlen\u001b[39m(all_day_data)\u001b[38;5;241m+\u001b[39m\u001b[38;5;241m1\u001b[39m), columns\u001b[38;5;241m=\u001b[39m\u001b[38;5;28mrange\u001b[39m(\u001b[38;5;241m1\u001b[39m,\u001b[38;5;28mlen\u001b[39m(all_day_data)\u001b[38;5;241m+\u001b[39m\u001b[38;5;241m1\u001b[39m))\n\u001b[0;32m     41\u001b[0m \u001b[38;5;28;01mreturn\u001b[39;00m dataframe\n",
      "File \u001b[1;32md:\\Descargas\\Anaconda\\Lib\\site-packages\\pandas\\core\\frame.py:840\u001b[0m, in \u001b[0;36mDataFrame.__init__\u001b[1;34m(self, data, index, columns, dtype, copy)\u001b[0m\n\u001b[0;32m    838\u001b[0m     \u001b[38;5;28;01mif\u001b[39;00m columns \u001b[38;5;129;01mis\u001b[39;00m \u001b[38;5;129;01mnot\u001b[39;00m \u001b[38;5;28;01mNone\u001b[39;00m:\n\u001b[0;32m    839\u001b[0m         columns \u001b[38;5;241m=\u001b[39m ensure_index(columns)\n\u001b[1;32m--> 840\u001b[0m     arrays, columns, index \u001b[38;5;241m=\u001b[39m nested_data_to_arrays(\n\u001b[0;32m    841\u001b[0m         \u001b[38;5;66;03m# error: Argument 3 to \"nested_data_to_arrays\" has incompatible\u001b[39;00m\n\u001b[0;32m    842\u001b[0m         \u001b[38;5;66;03m# type \"Optional[Collection[Any]]\"; expected \"Optional[Index]\"\u001b[39;00m\n\u001b[0;32m    843\u001b[0m         data,\n\u001b[0;32m    844\u001b[0m         columns,\n\u001b[0;32m    845\u001b[0m         index,  \u001b[38;5;66;03m# type: ignore[arg-type]\u001b[39;00m\n\u001b[0;32m    846\u001b[0m         dtype,\n\u001b[0;32m    847\u001b[0m     )\n\u001b[0;32m    848\u001b[0m     mgr \u001b[38;5;241m=\u001b[39m arrays_to_mgr(\n\u001b[0;32m    849\u001b[0m         arrays,\n\u001b[0;32m    850\u001b[0m         columns,\n\u001b[1;32m   (...)\u001b[0m\n\u001b[0;32m    853\u001b[0m         typ\u001b[38;5;241m=\u001b[39mmanager,\n\u001b[0;32m    854\u001b[0m     )\n\u001b[0;32m    855\u001b[0m \u001b[38;5;28;01melse\u001b[39;00m:\n",
      "File \u001b[1;32md:\\Descargas\\Anaconda\\Lib\\site-packages\\pandas\\core\\internals\\construction.py:520\u001b[0m, in \u001b[0;36mnested_data_to_arrays\u001b[1;34m(data, columns, index, dtype)\u001b[0m\n\u001b[0;32m    517\u001b[0m \u001b[38;5;28;01mif\u001b[39;00m is_named_tuple(data[\u001b[38;5;241m0\u001b[39m]) \u001b[38;5;129;01mand\u001b[39;00m columns \u001b[38;5;129;01mis\u001b[39;00m \u001b[38;5;28;01mNone\u001b[39;00m:\n\u001b[0;32m    518\u001b[0m     columns \u001b[38;5;241m=\u001b[39m ensure_index(data[\u001b[38;5;241m0\u001b[39m]\u001b[38;5;241m.\u001b[39m_fields)\n\u001b[1;32m--> 520\u001b[0m arrays, columns \u001b[38;5;241m=\u001b[39m to_arrays(data, columns, dtype\u001b[38;5;241m=\u001b[39mdtype)\n\u001b[0;32m    521\u001b[0m columns \u001b[38;5;241m=\u001b[39m ensure_index(columns)\n\u001b[0;32m    523\u001b[0m \u001b[38;5;28;01mif\u001b[39;00m index \u001b[38;5;129;01mis\u001b[39;00m \u001b[38;5;28;01mNone\u001b[39;00m:\n",
      "File \u001b[1;32md:\\Descargas\\Anaconda\\Lib\\site-packages\\pandas\\core\\internals\\construction.py:845\u001b[0m, in \u001b[0;36mto_arrays\u001b[1;34m(data, columns, dtype)\u001b[0m\n\u001b[0;32m    842\u001b[0m     data \u001b[38;5;241m=\u001b[39m [\u001b[38;5;28mtuple\u001b[39m(x) \u001b[38;5;28;01mfor\u001b[39;00m x \u001b[38;5;129;01min\u001b[39;00m data]\n\u001b[0;32m    843\u001b[0m     arr \u001b[38;5;241m=\u001b[39m _list_to_arrays(data)\n\u001b[1;32m--> 845\u001b[0m content, columns \u001b[38;5;241m=\u001b[39m _finalize_columns_and_data(arr, columns, dtype)\n\u001b[0;32m    846\u001b[0m \u001b[38;5;28;01mreturn\u001b[39;00m content, columns\n",
      "File \u001b[1;32md:\\Descargas\\Anaconda\\Lib\\site-packages\\pandas\\core\\internals\\construction.py:942\u001b[0m, in \u001b[0;36m_finalize_columns_and_data\u001b[1;34m(content, columns, dtype)\u001b[0m\n\u001b[0;32m    939\u001b[0m     columns \u001b[38;5;241m=\u001b[39m _validate_or_indexify_columns(contents, columns)\n\u001b[0;32m    940\u001b[0m \u001b[38;5;28;01mexcept\u001b[39;00m \u001b[38;5;167;01mAssertionError\u001b[39;00m \u001b[38;5;28;01mas\u001b[39;00m err:\n\u001b[0;32m    941\u001b[0m     \u001b[38;5;66;03m# GH#26429 do not raise user-facing AssertionError\u001b[39;00m\n\u001b[1;32m--> 942\u001b[0m     \u001b[38;5;28;01mraise\u001b[39;00m \u001b[38;5;167;01mValueError\u001b[39;00m(err) \u001b[38;5;28;01mfrom\u001b[39;00m \u001b[38;5;21;01merr\u001b[39;00m\n\u001b[0;32m    944\u001b[0m \u001b[38;5;28;01mif\u001b[39;00m \u001b[38;5;28mlen\u001b[39m(contents) \u001b[38;5;129;01mand\u001b[39;00m contents[\u001b[38;5;241m0\u001b[39m]\u001b[38;5;241m.\u001b[39mdtype \u001b[38;5;241m==\u001b[39m np\u001b[38;5;241m.\u001b[39mobject_:\n\u001b[0;32m    945\u001b[0m     contents \u001b[38;5;241m=\u001b[39m convert_object_array(contents, dtype\u001b[38;5;241m=\u001b[39mdtype)\n",
      "\u001b[1;31mValueError\u001b[0m: 31 columns passed, passed data had 24 columns"
     ]
    }
   ],
   "source": [
    "from Data import Data\n",
    "\n",
    "YEAR = 2000\n",
    "MONTH = 1\n",
    "DAY = 20\n",
    "\n",
    "data = Data()\n",
    "url_by_month = data.get_data_by_month(YEAR, MONTH)\n",
    "url_by_year = data.get_data_by_year(YEAR)\n",
    "df1 = data.scrapping_data(url_by_month)\n",
    "df2 = data.scrapping_data(url_by_year)\n",
    "\n",
    "\n",
    "print(df1.head())\n"
   ]
  }
 ],
 "metadata": {
  "kernelspec": {
   "display_name": "base",
   "language": "python",
   "name": "python3"
  },
  "language_info": {
   "codemirror_mode": {
    "name": "ipython",
    "version": 3
   },
   "file_extension": ".py",
   "mimetype": "text/x-python",
   "name": "python",
   "nbconvert_exporter": "python",
   "pygments_lexer": "ipython3",
   "version": "3.11.5"
  }
 },
 "nbformat": 4,
 "nbformat_minor": 2
}
